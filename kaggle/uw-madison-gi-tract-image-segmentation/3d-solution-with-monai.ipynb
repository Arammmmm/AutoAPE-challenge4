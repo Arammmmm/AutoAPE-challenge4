{
 "cells": [
  {
   "cell_type": "markdown",
   "id": "7dc3f7fb",
   "metadata": {
    "papermill": {
     "duration": 0.022843,
     "end_time": "2023-06-01T09:34:00.546905",
     "exception": false,
     "start_time": "2023-06-01T09:34:00.524062",
     "status": "completed"
    },
    "tags": []
   },
   "source": [
    "## Load Libs"
   ]
  },
  {
   "cell_type": "code",
   "execution_count": 1,
   "id": "b4d43d7b",
   "metadata": {
    "execution": {
     "iopub.execute_input": "2023-06-01T09:34:00.601087Z",
     "iopub.status.busy": "2023-06-01T09:34:00.600175Z",
     "iopub.status.idle": "2023-06-01T09:34:00.603919Z",
     "shell.execute_reply": "2023-06-01T09:34:00.603374Z",
     "shell.execute_reply.started": "2023-06-01T09:19:18.200580Z"
    },
    "papermill": {
     "duration": 0.035444,
     "end_time": "2023-06-01T09:34:00.604103",
     "exception": false,
     "start_time": "2023-06-01T09:34:00.568659",
     "status": "completed"
    },
    "tags": []
   },
   "outputs": [],
   "source": [
    "import sys\n",
    "\n",
    "sys.path.append('../input/monai-v081/')"
   ]
  },
  {
   "cell_type": "code",
   "execution_count": 2,
   "id": "52626d9c",
   "metadata": {
    "execution": {
     "iopub.execute_input": "2023-06-01T09:34:00.652723Z",
     "iopub.status.busy": "2023-06-01T09:34:00.651981Z",
     "iopub.status.idle": "2023-06-01T09:34:08.013213Z",
     "shell.execute_reply": "2023-06-01T09:34:08.012614Z",
     "shell.execute_reply.started": "2023-06-01T09:22:33.441961Z"
    },
    "papermill": {
     "duration": 7.387856,
     "end_time": "2023-06-01T09:34:08.013364",
     "exception": false,
     "start_time": "2023-06-01T09:34:00.625508",
     "status": "completed"
    },
    "tags": []
   },
   "outputs": [],
   "source": [
    "import gc\n",
    "from glob import glob\n",
    "import os\n",
    "import numpy as np\n",
    "import pandas as pd\n",
    "import torch\n",
    "from torch import nn\n",
    "from monai.inferers import sliding_window_inference\n",
    "from monai.data import decollate_batch\n",
    "from monai.handlers.utils import from_engine\n",
    "from monai.networks.nets import UNet\n",
    "from torch.cuda.amp import GradScaler, autocast\n",
    "from tqdm import tqdm\n",
    "import json"
   ]
  },
  {
   "cell_type": "code",
   "execution_count": 3,
   "id": "8f9d234c",
   "metadata": {
    "execution": {
     "iopub.execute_input": "2023-06-01T09:34:08.061700Z",
     "iopub.status.busy": "2023-06-01T09:34:08.060809Z",
     "iopub.status.idle": "2023-06-01T09:34:08.063534Z",
     "shell.execute_reply": "2023-06-01T09:34:08.062924Z",
     "shell.execute_reply.started": "2023-06-01T09:24:29.532219Z"
    },
    "papermill": {
     "duration": 0.028762,
     "end_time": "2023-06-01T09:34:08.063667",
     "exception": false,
     "start_time": "2023-06-01T09:34:08.034905",
     "status": "completed"
    },
    "tags": []
   },
   "outputs": [],
   "source": [
    "from monai.data import CacheDataset, DataLoader\n",
    "from monai.transforms import (\n",
    "    Compose,\n",
    "    Activations,\n",
    "    AsDiscrete,\n",
    "    Activationsd,\n",
    "    AsDiscreted,\n",
    "    KeepLargestConnectedComponentd,\n",
    "    Invertd,\n",
    "    LoadImage,\n",
    "    Transposed,\n",
    "    LoadImaged,\n",
    "    AddChanneld,\n",
    "    CastToTyped,\n",
    "    Lambdad,\n",
    "    Resized,\n",
    "    EnsureTyped,\n",
    "    SpatialPadd,\n",
    "    EnsureChannelFirstd,\n",
    ")"
   ]
  },
  {
   "cell_type": "markdown",
   "id": "6d0e6a88",
   "metadata": {
    "papermill": {
     "duration": 0.02034,
     "end_time": "2023-06-01T09:34:08.105059",
     "exception": false,
     "start_time": "2023-06-01T09:34:08.084719",
     "status": "completed"
    },
    "tags": []
   },
   "source": [
    "## Prepare meta info."
   ]
  },
  {
   "cell_type": "markdown",
   "id": "2d6c010c",
   "metadata": {
    "papermill": {
     "duration": 0.020968,
     "end_time": "2023-06-01T09:34:08.146786",
     "exception": false,
     "start_time": "2023-06-01T09:34:08.125818",
     "status": "completed"
    },
    "tags": []
   },
   "source": [
    "### Thanks awsaf49, this section refers to:\n",
    "https://www.kaggle.com/code/awsaf49/uwmgi-2-5d-infer-pytorch"
   ]
  },
  {
   "cell_type": "code",
   "execution_count": 4,
   "id": "0c2a11ba",
   "metadata": {
    "execution": {
     "iopub.execute_input": "2023-06-01T09:34:08.198309Z",
     "iopub.status.busy": "2023-06-01T09:34:08.196599Z",
     "iopub.status.idle": "2023-06-01T09:34:08.200805Z",
     "shell.execute_reply": "2023-06-01T09:34:08.200320Z",
     "shell.execute_reply.started": "2023-06-01T09:25:02.735653Z"
    },
    "papermill": {
     "duration": 0.033216,
     "end_time": "2023-06-01T09:34:08.200929",
     "exception": false,
     "start_time": "2023-06-01T09:34:08.167713",
     "status": "completed"
    },
    "tags": []
   },
   "outputs": [],
   "source": [
    "def get_metadata(row):\n",
    "    data = row['id'].split('_')\n",
    "    case = int(data[0].replace('case',''))\n",
    "    day = int(data[1].replace('day',''))\n",
    "    slice_ = int(data[-1])\n",
    "    row['case'] = case\n",
    "    row['day'] = day\n",
    "    row['slice'] = slice_\n",
    "    return row\n",
    "\n",
    "def path2info(row):\n",
    "    path = row['image_path']\n",
    "    data = path.split('/')\n",
    "    slice_ = int(data[-1].split('_')[1])\n",
    "    case = int(data[-3].split('_')[0].replace('case',''))\n",
    "    day = int(data[-3].split('_')[1].replace('day',''))\n",
    "    width = int(data[-1].split('_')[2])\n",
    "    height = int(data[-1].split('_')[3])\n",
    "    row['height'] = height\n",
    "    row['width'] = width\n",
    "    row['case'] = case\n",
    "    row['day'] = day\n",
    "    row['slice'] = slice_\n",
    "    return row"
   ]
  },
  {
   "cell_type": "code",
   "execution_count": 5,
   "id": "f17f215c",
   "metadata": {
    "execution": {
     "iopub.execute_input": "2023-06-01T09:34:08.248892Z",
     "iopub.status.busy": "2023-06-01T09:34:08.248300Z",
     "iopub.status.idle": "2023-06-01T09:34:10.297839Z",
     "shell.execute_reply": "2023-06-01T09:34:10.297277Z",
     "shell.execute_reply.started": "2023-06-01T09:25:06.167304Z"
    },
    "papermill": {
     "duration": 2.076297,
     "end_time": "2023-06-01T09:34:10.298055",
     "exception": false,
     "start_time": "2023-06-01T09:34:08.221758",
     "status": "completed"
    },
    "tags": []
   },
   "outputs": [],
   "source": [
    "sub_df = pd.read_csv('../input/uw-madison-gi-tract-image-segmentation/sample_submission.csv')\n",
    "if not len(sub_df):\n",
    "    debug = True\n",
    "    sub_df = pd.read_csv('../input/uw-madison-gi-tract-image-segmentation/train.csv')[:1000*3]\n",
    "    sub_df = sub_df.drop(columns=['class','segmentation']).drop_duplicates()\n",
    "else:\n",
    "    debug = False\n",
    "    sub_df = sub_df.drop(columns=['class','predicted']).drop_duplicates()\n",
    "sub_df = sub_df.apply(lambda x: get_metadata(x),axis=1)"
   ]
  },
  {
   "cell_type": "code",
   "execution_count": 6,
   "id": "d5a834f4",
   "metadata": {
    "execution": {
     "iopub.execute_input": "2023-06-01T09:34:10.347759Z",
     "iopub.status.busy": "2023-06-01T09:34:10.347066Z",
     "iopub.status.idle": "2023-06-01T09:36:13.776355Z",
     "shell.execute_reply": "2023-06-01T09:36:13.776844Z",
     "shell.execute_reply.started": "2023-06-01T09:25:13.403923Z"
    },
    "papermill": {
     "duration": 123.456687,
     "end_time": "2023-06-01T09:36:13.777032",
     "exception": false,
     "start_time": "2023-06-01T09:34:10.320345",
     "status": "completed"
    },
    "tags": []
   },
   "outputs": [
    {
     "data": {
      "text/html": [
       "<div>\n",
       "<style scoped>\n",
       "    .dataframe tbody tr th:only-of-type {\n",
       "        vertical-align: middle;\n",
       "    }\n",
       "\n",
       "    .dataframe tbody tr th {\n",
       "        vertical-align: top;\n",
       "    }\n",
       "\n",
       "    .dataframe thead th {\n",
       "        text-align: right;\n",
       "    }\n",
       "</style>\n",
       "<table border=\"1\" class=\"dataframe\">\n",
       "  <thead>\n",
       "    <tr style=\"text-align: right;\">\n",
       "      <th></th>\n",
       "      <th>image_path</th>\n",
       "      <th>height</th>\n",
       "      <th>width</th>\n",
       "      <th>case</th>\n",
       "      <th>day</th>\n",
       "      <th>slice</th>\n",
       "    </tr>\n",
       "  </thead>\n",
       "  <tbody>\n",
       "    <tr>\n",
       "      <th>0</th>\n",
       "      <td>/kaggle/input/uw-madison-gi-tract-image-segmen...</td>\n",
       "      <td>266</td>\n",
       "      <td>266</td>\n",
       "      <td>36</td>\n",
       "      <td>14</td>\n",
       "      <td>6</td>\n",
       "    </tr>\n",
       "    <tr>\n",
       "      <th>1</th>\n",
       "      <td>/kaggle/input/uw-madison-gi-tract-image-segmen...</td>\n",
       "      <td>266</td>\n",
       "      <td>266</td>\n",
       "      <td>36</td>\n",
       "      <td>14</td>\n",
       "      <td>82</td>\n",
       "    </tr>\n",
       "    <tr>\n",
       "      <th>2</th>\n",
       "      <td>/kaggle/input/uw-madison-gi-tract-image-segmen...</td>\n",
       "      <td>266</td>\n",
       "      <td>266</td>\n",
       "      <td>36</td>\n",
       "      <td>14</td>\n",
       "      <td>113</td>\n",
       "    </tr>\n",
       "    <tr>\n",
       "      <th>3</th>\n",
       "      <td>/kaggle/input/uw-madison-gi-tract-image-segmen...</td>\n",
       "      <td>266</td>\n",
       "      <td>266</td>\n",
       "      <td>36</td>\n",
       "      <td>14</td>\n",
       "      <td>76</td>\n",
       "    </tr>\n",
       "    <tr>\n",
       "      <th>4</th>\n",
       "      <td>/kaggle/input/uw-madison-gi-tract-image-segmen...</td>\n",
       "      <td>266</td>\n",
       "      <td>266</td>\n",
       "      <td>36</td>\n",
       "      <td>14</td>\n",
       "      <td>125</td>\n",
       "    </tr>\n",
       "  </tbody>\n",
       "</table>\n",
       "</div>"
      ],
      "text/plain": [
       "                                          image_path  height  width  case  \\\n",
       "0  /kaggle/input/uw-madison-gi-tract-image-segmen...     266    266    36   \n",
       "1  /kaggle/input/uw-madison-gi-tract-image-segmen...     266    266    36   \n",
       "2  /kaggle/input/uw-madison-gi-tract-image-segmen...     266    266    36   \n",
       "3  /kaggle/input/uw-madison-gi-tract-image-segmen...     266    266    36   \n",
       "4  /kaggle/input/uw-madison-gi-tract-image-segmen...     266    266    36   \n",
       "\n",
       "   day  slice  \n",
       "0   14      6  \n",
       "1   14     82  \n",
       "2   14    113  \n",
       "3   14     76  \n",
       "4   14    125  "
      ]
     },
     "execution_count": 6,
     "metadata": {},
     "output_type": "execute_result"
    }
   ],
   "source": [
    "if debug:\n",
    "    paths = glob(f'/kaggle/input/uw-madison-gi-tract-image-segmentation/train/**/*png',recursive=True)\n",
    "#     paths = sorted(paths)\n",
    "else:\n",
    "    paths = glob(f'/kaggle/input/uw-madison-gi-tract-image-segmentation/test/**/*png',recursive=True)\n",
    "#     paths = sorted(paths)\n",
    "path_df = pd.DataFrame(paths, columns=['image_path'])\n",
    "path_df = path_df.apply(lambda x: path2info(x),axis=1)\n",
    "path_df.head()"
   ]
  },
  {
   "cell_type": "markdown",
   "id": "a3c6f18d",
   "metadata": {
    "papermill": {
     "duration": 0.02175,
     "end_time": "2023-06-01T09:36:13.820220",
     "exception": false,
     "start_time": "2023-06-01T09:36:13.798470",
     "status": "completed"
    },
    "tags": []
   },
   "source": [
    "## Produce 3d data list for MONAI DataSet"
   ]
  },
  {
   "cell_type": "code",
   "execution_count": 7,
   "id": "9e630dcd",
   "metadata": {
    "execution": {
     "iopub.execute_input": "2023-06-01T09:36:13.871481Z",
     "iopub.status.busy": "2023-06-01T09:36:13.870371Z",
     "iopub.status.idle": "2023-06-01T09:36:13.892919Z",
     "shell.execute_reply": "2023-06-01T09:36:13.892432Z",
     "shell.execute_reply.started": "2023-06-01T09:27:48.322993Z"
    },
    "papermill": {
     "duration": 0.051363,
     "end_time": "2023-06-01T09:36:13.893077",
     "exception": false,
     "start_time": "2023-06-01T09:36:13.841714",
     "status": "completed"
    },
    "tags": []
   },
   "outputs": [],
   "source": [
    "test_df = sub_df.merge(path_df, on=['case','day','slice'], how='left')\n",
    "test_df[\"case_id_str\"] = test_df[\"id\"].apply(lambda x: x.split(\"_\", 2)[0])\n",
    "test_df[\"day_num_str\"] = test_df[\"id\"].apply(lambda x: x.split(\"_\", 2)[1])\n",
    "test_df[\"slice_id\"] = test_df[\"id\"].apply(lambda x: x.split(\"_\", 2)[2])"
   ]
  },
  {
   "cell_type": "code",
   "execution_count": 8,
   "id": "57213c66",
   "metadata": {
    "execution": {
     "iopub.execute_input": "2023-06-01T09:36:13.944554Z",
     "iopub.status.busy": "2023-06-01T09:36:13.943729Z",
     "iopub.status.idle": "2023-06-01T09:36:14.095826Z",
     "shell.execute_reply": "2023-06-01T09:36:14.095230Z",
     "shell.execute_reply.started": "2023-06-01T09:27:51.701827Z"
    },
    "papermill": {
     "duration": 0.180925,
     "end_time": "2023-06-01T09:36:14.095982",
     "exception": false,
     "start_time": "2023-06-01T09:36:13.915057",
     "status": "completed"
    },
    "tags": []
   },
   "outputs": [],
   "source": [
    "test_data = []\n",
    "\n",
    "for group in test_df.groupby([\"case_id_str\", \"day_num_str\"]):\n",
    "\n",
    "    case_id_str, day_num_str = group[0]\n",
    "    group_id = case_id_str + \"_\" + day_num_str\n",
    "    group_df = group[1].sort_values(\"slice_id\", ascending=True)\n",
    "    n_slices = group_df.shape[0]\n",
    "    group_slices, group_ids = [], []\n",
    "    for idx in range(n_slices):\n",
    "        slc = group_df.iloc[idx]\n",
    "        group_slices.append(slc.image_path)\n",
    "        group_ids.append(slc.id)\n",
    "    test_data.append({\"image\": group_slices, \"id\": group_ids})"
   ]
  },
  {
   "cell_type": "markdown",
   "id": "6f432080",
   "metadata": {
    "papermill": {
     "duration": 0.02128,
     "end_time": "2023-06-01T09:36:14.138881",
     "exception": false,
     "start_time": "2023-06-01T09:36:14.117601",
     "status": "completed"
    },
    "tags": []
   },
   "source": [
    "## Prepare Transforms, Dataset, DataLoader"
   ]
  },
  {
   "cell_type": "code",
   "execution_count": 9,
   "id": "19d080fe",
   "metadata": {
    "execution": {
     "iopub.execute_input": "2023-06-01T09:36:14.250136Z",
     "iopub.status.busy": "2023-06-01T09:36:14.249448Z",
     "iopub.status.idle": "2023-06-01T09:36:14.294340Z",
     "shell.execute_reply": "2023-06-01T09:36:14.294792Z",
     "shell.execute_reply.started": "2023-06-01T09:27:54.272985Z"
    },
    "papermill": {
     "duration": 0.13476,
     "end_time": "2023-06-01T09:36:14.294952",
     "exception": false,
     "start_time": "2023-06-01T09:36:14.160192",
     "status": "completed"
    },
    "tags": []
   },
   "outputs": [],
   "source": [
    "class cfg:\n",
    "    img_size = (224, 224, 80)\n",
    "    in_channels = 1\n",
    "    out_channels = 3\n",
    "    device = torch.device(\"cuda:0\" if torch.cuda.is_available() else \"cpu\")\n",
    "    weights = glob(\"../input/uw3dweights/large*\")\n",
    "    batch_size = 1\n",
    "    sw_batch_size = 4"
   ]
  },
  {
   "cell_type": "code",
   "execution_count": 10,
   "id": "e6ac5b55",
   "metadata": {
    "execution": {
     "iopub.execute_input": "2023-06-01T09:36:14.348455Z",
     "iopub.status.busy": "2023-06-01T09:36:14.345206Z",
     "iopub.status.idle": "2023-06-01T09:36:14.350819Z",
     "shell.execute_reply": "2023-06-01T09:36:14.350331Z",
     "shell.execute_reply.started": "2023-06-01T09:30:20.636183Z"
    },
    "papermill": {
     "duration": 0.034553,
     "end_time": "2023-06-01T09:36:14.350935",
     "exception": false,
     "start_time": "2023-06-01T09:36:14.316382",
     "status": "completed"
    },
    "tags": []
   },
   "outputs": [],
   "source": [
    "test_transforms = Compose(\n",
    "    [\n",
    "        LoadImaged(keys=\"image\"), # d, h, w\n",
    "        AddChanneld(keys=\"image\"), # c, d, h, w\n",
    "        Transposed(keys=\"image\", indices=[0, 2, 3, 1]), # c, w, h, d\n",
    "        Lambdad(keys=\"image\", func=lambda x: x / x.max()),\n",
    "#         SpatialPadd(keys=\"image\", spatial_size=cfg.img_size),  # in case less than 80 slices\n",
    "        EnsureTyped(keys=\"image\", dtype=torch.float32),\n",
    "    ]\n",
    ")\n",
    "\n",
    "test_ds = CacheDataset(\n",
    "        data=test_data,\n",
    "        transform=test_transforms,\n",
    "        cache_rate=0.0,\n",
    "        num_workers=2,\n",
    "    )\n",
    "\n",
    "test_dataloader = DataLoader(\n",
    "    test_ds,\n",
    "    batch_size=cfg.batch_size,\n",
    "    num_workers=2,\n",
    "    pin_memory=True,\n",
    ")"
   ]
  },
  {
   "cell_type": "markdown",
   "id": "a6d1114c",
   "metadata": {
    "papermill": {
     "duration": 0.021247,
     "end_time": "2023-06-01T09:36:14.393802",
     "exception": false,
     "start_time": "2023-06-01T09:36:14.372555",
     "status": "completed"
    },
    "tags": []
   },
   "source": [
    "## Prepare Network"
   ]
  },
  {
   "cell_type": "code",
   "execution_count": 11,
   "id": "3f74fa6f",
   "metadata": {
    "execution": {
     "iopub.execute_input": "2023-06-01T09:36:14.446604Z",
     "iopub.status.busy": "2023-06-01T09:36:14.445862Z",
     "iopub.status.idle": "2023-06-01T09:36:17.882918Z",
     "shell.execute_reply": "2023-06-01T09:36:17.882121Z",
     "shell.execute_reply.started": "2023-06-01T09:30:25.805035Z"
    },
    "papermill": {
     "duration": 3.467422,
     "end_time": "2023-06-01T09:36:17.883081",
     "exception": false,
     "start_time": "2023-06-01T09:36:14.415659",
     "status": "completed"
    },
    "tags": []
   },
   "outputs": [],
   "source": [
    "model = UNet(\n",
    "    spatial_dims=3,\n",
    "    in_channels=cfg.in_channels,\n",
    "    out_channels=cfg.out_channels,\n",
    "    channels=(32, 64, 128, 256, 512),\n",
    "    strides=(2, 2, 2, 2),\n",
    "    kernel_size=3,\n",
    "    up_kernel_size=3,\n",
    "    num_res_units=2,\n",
    "    act=\"PRELU\",\n",
    "    norm=\"BATCH\",\n",
    "    dropout=0.2,\n",
    "    bias=True,\n",
    "    dimensions=None,\n",
    ").to(cfg.device)"
   ]
  },
  {
   "cell_type": "markdown",
   "id": "1bdd4507",
   "metadata": {
    "papermill": {
     "duration": 0.021485,
     "end_time": "2023-06-01T09:36:17.926505",
     "exception": false,
     "start_time": "2023-06-01T09:36:17.905020",
     "status": "completed"
    },
    "tags": []
   },
   "source": [
    "## Infer"
   ]
  },
  {
   "cell_type": "code",
   "execution_count": 12,
   "id": "72de579f",
   "metadata": {
    "execution": {
     "iopub.execute_input": "2023-06-01T09:36:17.976650Z",
     "iopub.status.busy": "2023-06-01T09:36:17.975780Z",
     "iopub.status.idle": "2023-06-01T09:36:17.978435Z",
     "shell.execute_reply": "2023-06-01T09:36:17.977926Z",
     "shell.execute_reply.started": "2023-06-01T09:31:31.996319Z"
    },
    "papermill": {
     "duration": 0.030585,
     "end_time": "2023-06-01T09:36:17.978559",
     "exception": false,
     "start_time": "2023-06-01T09:36:17.947974",
     "status": "completed"
    },
    "tags": []
   },
   "outputs": [],
   "source": [
    "# ref.: https://www.kaggle.com/stainsby/fast-tested-rle\n",
    "def rle_encode(img):\n",
    "    \"\"\" TBD\n",
    "    \n",
    "    Args:\n",
    "        img (np.array): \n",
    "            - 1 indicating mask\n",
    "            - 0 indicating background\n",
    "    \n",
    "    Returns: \n",
    "        run length as string formated\n",
    "    \"\"\"\n",
    "    \n",
    "    pixels = img.flatten()\n",
    "    pixels = np.concatenate([[0], pixels, [0]])\n",
    "    runs = np.where(pixels[1:] != pixels[:-1])[0] + 1\n",
    "    runs[1::2] -= runs[::2]\n",
    "    return ' '.join(str(x) for x in runs)"
   ]
  },
  {
   "cell_type": "code",
   "execution_count": 13,
   "id": "660b5d2b",
   "metadata": {
    "execution": {
     "iopub.execute_input": "2023-06-01T09:36:18.036390Z",
     "iopub.status.busy": "2023-06-01T09:36:18.035737Z",
     "iopub.status.idle": "2023-06-01T09:36:47.464870Z",
     "shell.execute_reply": "2023-06-01T09:36:47.465375Z",
     "shell.execute_reply.started": "2023-06-01T09:31:35.745931Z"
    },
    "papermill": {
     "duration": 29.465514,
     "end_time": "2023-06-01T09:36:47.465560",
     "exception": false,
     "start_time": "2023-06-01T09:36:18.000046",
     "status": "completed"
    },
    "tags": []
   },
   "outputs": [
    {
     "name": "stderr",
     "output_type": "stream",
     "text": [
      "100%|██████████| 7/7 [00:29<00:00,  4.20s/it]\n"
     ]
    }
   ],
   "source": [
    "outputs = []\n",
    "\n",
    "post_pred = Compose([\n",
    "    Activations(sigmoid=True),\n",
    "    AsDiscrete(threshold=0.5),\n",
    "])\n",
    "\n",
    "model.eval()\n",
    "torch.set_grad_enabled(False)\n",
    "progress_bar = tqdm(range(len(test_dataloader)))\n",
    "val_it = iter(test_dataloader)\n",
    "for itr in progress_bar:\n",
    "    batch = next(val_it)\n",
    "    test_inputs = batch[\"image\"].to(cfg.device)\n",
    "\n",
    "    pred_all = []\n",
    "    for weights in cfg.weights:\n",
    "        model.load_state_dict(torch.load(weights))\n",
    "        pred = sliding_window_inference(test_inputs, cfg.img_size, cfg.sw_batch_size, model)\n",
    "        pred_all.append(pred)\n",
    "        # do 4 tta\n",
    "        for dims in [[2], [3], [2, 3]]:\n",
    "            flip_pred = sliding_window_inference(torch.flip(test_inputs, dims=dims), cfg.img_size, cfg.sw_batch_size, model)\n",
    "            flip_pred = torch.flip(flip_pred, dims=dims)\n",
    "            pred_all.append(flip_pred)\n",
    "    \n",
    "    pred_all = torch.mean(torch.stack(pred_all), dim=0)[0]\n",
    "    pred_all = post_pred(pred_all)\n",
    "    # c, w, h, d to d, c, h, w\n",
    "    pred_all = torch.permute(pred_all, [3, 0, 2, 1]).cpu().numpy().astype(np.uint8)\n",
    "    id_outputs = from_engine([\"id\"])(batch)[0]\n",
    "\n",
    "    for test_output, id_output in zip(pred_all, id_outputs):\n",
    "        id_name = id_output[0]\n",
    "        lb, sb, st = test_output\n",
    "        outputs.append([id_name, \"large_bowel\", rle_encode(lb)])\n",
    "        outputs.append([id_name, \"small_bowel\", rle_encode(sb)])\n",
    "        outputs.append([id_name, \"stomach\", rle_encode(st)])\n"
   ]
  },
  {
   "cell_type": "code",
   "execution_count": 14,
   "id": "784c320d",
   "metadata": {
    "execution": {
     "iopub.execute_input": "2023-06-01T09:36:47.587596Z",
     "iopub.status.busy": "2023-06-01T09:36:47.586658Z",
     "iopub.status.idle": "2023-06-01T09:36:47.589402Z",
     "shell.execute_reply": "2023-06-01T09:36:47.588784Z",
     "shell.execute_reply.started": "2023-06-01T09:33:22.229845Z"
    },
    "papermill": {
     "duration": 0.097674,
     "end_time": "2023-06-01T09:36:47.589536",
     "exception": false,
     "start_time": "2023-06-01T09:36:47.491862",
     "status": "completed"
    },
    "tags": []
   },
   "outputs": [],
   "source": [
    "submit = pd.DataFrame(data=np.array(outputs), columns=[\"id\", \"class\", \"predicted\"])"
   ]
  },
  {
   "cell_type": "code",
   "execution_count": 15,
   "id": "f808c7eb",
   "metadata": {
    "execution": {
     "iopub.execute_input": "2023-06-01T09:36:47.649729Z",
     "iopub.status.busy": "2023-06-01T09:36:47.648747Z",
     "iopub.status.idle": "2023-06-01T09:36:47.676998Z",
     "shell.execute_reply": "2023-06-01T09:36:47.676474Z",
     "shell.execute_reply.started": "2023-06-01T09:33:24.198875Z"
    },
    "papermill": {
     "duration": 0.061292,
     "end_time": "2023-06-01T09:36:47.677140",
     "exception": false,
     "start_time": "2023-06-01T09:36:47.615848",
     "status": "completed"
    },
    "tags": []
   },
   "outputs": [],
   "source": [
    "# Fix sub error, refers to: https://www.kaggle.com/competitions/uw-madison-gi-tract-image-segmentation/discussion/320541\n",
    "if not debug:\n",
    "    sub_df = pd.read_csv('../input/uw-madison-gi-tract-image-segmentation/sample_submission.csv')\n",
    "    del sub_df['predicted']\n",
    "    sub_df = sub_df.merge(submit, on=['id','class'])\n",
    "    sub_df.to_csv('submission.csv',index=False)\n",
    "else:\n",
    "    submit.to_csv('submission.csv', index=False)"
   ]
  }
 ],
 "metadata": {
  "kernelspec": {
   "display_name": "Python 3",
   "language": "python",
   "name": "python3"
  },
  "language_info": {
   "codemirror_mode": {
    "name": "ipython",
    "version": 3
   },
   "file_extension": ".py",
   "mimetype": "text/x-python",
   "name": "python",
   "nbconvert_exporter": "python",
   "pygments_lexer": "ipython3",
   "version": "3.7.12"
  },
  "papermill": {
   "default_parameters": {},
   "duration": 178.259706,
   "end_time": "2023-06-01T09:36:49.616972",
   "environment_variables": {},
   "exception": null,
   "input_path": "__notebook__.ipynb",
   "output_path": "__notebook__.ipynb",
   "parameters": {},
   "start_time": "2023-06-01T09:33:51.357266",
   "version": "2.3.3"
  }
 },
 "nbformat": 4,
 "nbformat_minor": 5
}
