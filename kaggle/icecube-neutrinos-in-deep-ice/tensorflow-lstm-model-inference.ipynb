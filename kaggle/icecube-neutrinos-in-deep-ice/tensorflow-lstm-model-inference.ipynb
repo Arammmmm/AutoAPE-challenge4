{
 "cells": [
  {
   "cell_type": "code",
   "execution_count": 1,
   "id": "10f12ce3",
   "metadata": {
    "_cell_guid": "b1076dfc-b9ad-4769-8c92-a6c4dae69d19",
    "_uuid": "8f2839f25d086af736a60e9eeb907d3b93b6e0e5",
    "execution": {
     "iopub.execute_input": "2023-06-22T11:54:40.998104Z",
     "iopub.status.busy": "2023-06-22T11:54:40.997287Z",
     "iopub.status.idle": "2023-06-22T11:54:45.076800Z",
     "shell.execute_reply": "2023-06-22T11:54:45.075821Z"
    },
    "papermill": {
     "duration": 4.091407,
     "end_time": "2023-06-22T11:54:45.079709",
     "exception": false,
     "start_time": "2023-06-22T11:54:40.988302",
     "status": "completed"
    },
    "tags": []
   },
   "outputs": [],
   "source": [
    "# Import Modules\n",
    "import gc\n",
    "import os\n",
    "import multiprocessing\n",
    "import time\n",
    "import numpy as np\n",
    "import pandas as pd\n",
    "import pyarrow.parquet as pq\n",
    "import tensorflow as tf\n",
    "from tqdm import tqdm"
   ]
  },
  {
   "cell_type": "code",
   "execution_count": 2,
   "id": "686aa09c",
   "metadata": {
    "execution": {
     "iopub.execute_input": "2023-06-22T11:54:45.094224Z",
     "iopub.status.busy": "2023-06-22T11:54:45.093685Z",
     "iopub.status.idle": "2023-06-22T11:54:45.099451Z",
     "shell.execute_reply": "2023-06-22T11:54:45.098357Z"
    },
    "papermill": {
     "duration": 0.015773,
     "end_time": "2023-06-22T11:54:45.102076",
     "exception": false,
     "start_time": "2023-06-22T11:54:45.086303",
     "status": "completed"
    },
    "tags": []
   },
   "outputs": [],
   "source": [
    "# Directories and constants\n",
    "home_dir = \"/kaggle/input/icecube-neutrinos-in-deep-ice/\"\n",
    "test_format = home_dir + 'test/batch_{batch_id:d}.parquet'\n",
    "model_home = \"/kaggle/input/lstmicecubesdata/\"\n",
    "\n",
    "# Model(s)\n",
    "model_names = [\"4347_MAE_1-02076_bin24_pp96_n6_batch2048_epoch29.h5\",\n",
    "               \"4347_MAE_1-02039_bin24_pp96_n6_batch2048_epoch25.h5\", \n",
    "               \"4346_MAE_1-02020_bin24_pp96_n6_batch2048_epoch27.h5\"]\n",
    "model_weights = np.array([0.30, \n",
    "                          0.30,\n",
    "                          0.40])"
   ]
  },
  {
   "cell_type": "markdown",
   "id": "e5b97263",
   "metadata": {
    "papermill": {
     "duration": 0.006004,
     "end_time": "2023-06-22T11:54:45.114132",
     "exception": false,
     "start_time": "2023-06-22T11:54:45.108128",
     "status": "completed"
    },
    "tags": []
   },
   "source": [
    "## Load Model(s)"
   ]
  },
  {
   "cell_type": "code",
   "execution_count": 3,
   "id": "d962f83f",
   "metadata": {
    "execution": {
     "iopub.execute_input": "2023-06-22T11:54:45.127776Z",
     "iopub.status.busy": "2023-06-22T11:54:45.127225Z",
     "iopub.status.idle": "2023-06-22T11:55:02.953093Z",
     "shell.execute_reply": "2023-06-22T11:55:02.951535Z"
    },
    "papermill": {
     "duration": 17.835414,
     "end_time": "2023-06-22T11:55:02.955614",
     "exception": false,
     "start_time": "2023-06-22T11:54:45.120200",
     "status": "completed"
    },
    "tags": []
   },
   "outputs": [
    {
     "name": "stdout",
     "output_type": "stream",
     "text": [
      "\n",
      "========== Model File: 4347_MAE_1-02076_bin24_pp96_n6_batch2048_epoch29.h5\n",
      "Model: \"model\"\n",
      "_________________________________________________________________\n",
      "Layer (type)                 Output Shape              Param #   \n",
      "=================================================================\n",
      "input_1 (InputLayer)         [(None, 96, 6)]           0         \n",
      "_________________________________________________________________\n",
      "masking (Masking)            (None, 96, 6)             0         \n",
      "_________________________________________________________________\n",
      "bidirectional (Bidirectional (None, 96, 384)           230400    \n",
      "_________________________________________________________________\n",
      "bidirectional_1 (Bidirection (None, 96, 384)           665856    \n",
      "_________________________________________________________________\n",
      "bidirectional_2 (Bidirection (None, 384)               665856    \n",
      "_________________________________________________________________\n",
      "dense (Dense)                (None, 256)               98560     \n",
      "_________________________________________________________________\n",
      "dense_1 (Dense)              (None, 576)               148032    \n",
      "=================================================================\n",
      "Total params: 1,808,704\n",
      "Trainable params: 1,808,704\n",
      "Non-trainable params: 0\n",
      "_________________________________________________________________\n",
      "\n",
      "========== Model File: 4347_MAE_1-02039_bin24_pp96_n6_batch2048_epoch25.h5\n",
      "Model: \"model\"\n",
      "_________________________________________________________________\n",
      "Layer (type)                 Output Shape              Param #   \n",
      "=================================================================\n",
      "input_1 (InputLayer)         [(None, 96, 6)]           0         \n",
      "_________________________________________________________________\n",
      "masking (Masking)            (None, 96, 6)             0         \n",
      "_________________________________________________________________\n",
      "bidirectional (Bidirectional (None, 96, 384)           230400    \n",
      "_________________________________________________________________\n",
      "bidirectional_1 (Bidirection (None, 96, 384)           665856    \n",
      "_________________________________________________________________\n",
      "bidirectional_2 (Bidirection (None, 384)               665856    \n",
      "_________________________________________________________________\n",
      "dense (Dense)                (None, 256)               98560     \n",
      "_________________________________________________________________\n",
      "dense_1 (Dense)              (None, 576)               148032    \n",
      "=================================================================\n",
      "Total params: 1,808,704\n",
      "Trainable params: 1,808,704\n",
      "Non-trainable params: 0\n",
      "_________________________________________________________________\n",
      "\n",
      "========== Model File: 4346_MAE_1-02020_bin24_pp96_n6_batch2048_epoch27.h5\n",
      "Model: \"model\"\n",
      "_________________________________________________________________\n",
      "Layer (type)                 Output Shape              Param #   \n",
      "=================================================================\n",
      "input_1 (InputLayer)         [(None, 96, 6)]           0         \n",
      "_________________________________________________________________\n",
      "masking (Masking)            (None, 96, 6)             0         \n",
      "_________________________________________________________________\n",
      "bidirectional (Bidirectional (None, 96, 384)           230400    \n",
      "_________________________________________________________________\n",
      "bidirectional_1 (Bidirection (None, 96, 384)           665856    \n",
      "_________________________________________________________________\n",
      "bidirectional_2 (Bidirection (None, 384)               665856    \n",
      "_________________________________________________________________\n",
      "dense (Dense)                (None, 256)               98560     \n",
      "_________________________________________________________________\n",
      "dense_1 (Dense)              (None, 576)               148032    \n",
      "=================================================================\n",
      "Total params: 1,808,704\n",
      "Trainable params: 1,808,704\n",
      "Non-trainable params: 0\n",
      "_________________________________________________________________\n",
      "\n",
      "==== Model Parameters\n",
      "Bin Numbers: 24\n",
      "Maximum Pulse Count: 96\n",
      "Features Count: 6\n"
     ]
    }
   ],
   "source": [
    "# Load Models\n",
    "models = []\n",
    "for model_name in model_names:\n",
    "    print(f'\\n========== Model File: {model_name}')\n",
    "    \n",
    "    # Load Model\n",
    "    model_path = model_home + model_name\n",
    "    model = tf.keras.models.load_model(model_path, compile = False)\n",
    "    models.append(model)      \n",
    "    \n",
    "    # Model summary\n",
    "    model.summary()\n",
    "    \n",
    "# Get Model Parameters\n",
    "pulse_count = model.inputs[0].shape[1]\n",
    "feature_count = model.inputs[0].shape[2]\n",
    "output_bins = model.layers[-1].weights[0].shape[-1]\n",
    "bin_num = int(np.sqrt(output_bins))\n",
    "\n",
    "# Model Parameter Summary\n",
    "print(\"\\n==== Model Parameters\")\n",
    "print(f\"Bin Numbers: {bin_num}\")\n",
    "print(f\"Maximum Pulse Count: {pulse_count}\")\n",
    "print(f\"Features Count: {feature_count}\")"
   ]
  },
  {
   "cell_type": "markdown",
   "id": "544d4154",
   "metadata": {
    "papermill": {
     "duration": 0.007049,
     "end_time": "2023-06-22T11:55:02.970421",
     "exception": false,
     "start_time": "2023-06-22T11:55:02.963372",
     "status": "completed"
    },
    "tags": []
   },
   "source": [
    "## Detector Information"
   ]
  },
  {
   "cell_type": "code",
   "execution_count": 4,
   "id": "bcdd23c5",
   "metadata": {
    "execution": {
     "iopub.execute_input": "2023-06-22T11:55:02.986884Z",
     "iopub.status.busy": "2023-06-22T11:55:02.985749Z",
     "iopub.status.idle": "2023-06-22T11:55:03.014113Z",
     "shell.execute_reply": "2023-06-22T11:55:03.012560Z"
    },
    "papermill": {
     "duration": 0.039677,
     "end_time": "2023-06-22T11:55:03.017077",
     "exception": false,
     "start_time": "2023-06-22T11:55:02.977400",
     "status": "completed"
    },
    "tags": []
   },
   "outputs": [
    {
     "name": "stdout",
     "output_type": "stream",
     "text": [
      "time valid length: 6199.700247193777 ns\n"
     ]
    }
   ],
   "source": [
    "# Load sensor_geometry\n",
    "sensor_geometry_df = pd.read_csv(home_dir + \"sensor_geometry.csv\")\n",
    "\n",
    "# Get Sensor Information\n",
    "sensor_x = sensor_geometry_df.x\n",
    "sensor_y = sensor_geometry_df.y\n",
    "sensor_z = sensor_geometry_df.z\n",
    "\n",
    "# Detector constants\n",
    "c_const = 0.299792458  # speed of light [m/ns]\n",
    "\n",
    "# Sensor Min / Max Coordinates\n",
    "x_min = sensor_x.min()\n",
    "x_max = sensor_x.max()\n",
    "y_min = sensor_y.min()\n",
    "y_max = sensor_y.max()\n",
    "z_min = sensor_z.min()\n",
    "z_max = sensor_z.max()\n",
    "\n",
    "detector_length = np.sqrt((x_max - x_min)**2 + (y_max - y_min)**2 + (z_max - z_min)**2)\n",
    "t_valid_length = detector_length / c_const\n",
    "\n",
    "print(f\"time valid length: {t_valid_length} ns\")"
   ]
  },
  {
   "attachments": {},
   "cell_type": "markdown",
   "id": "5d3c5dad",
   "metadata": {
    "papermill": {
     "duration": 0.006754,
     "end_time": "2023-06-22T11:55:03.031629",
     "exception": false,
     "start_time": "2023-06-22T11:55:03.024875",
     "status": "completed"
    },
    "tags": []
   },
   "source": [
    "## Angle encoding edges\n",
    "\n"
   ]
  },
  {
   "cell_type": "code",
   "execution_count": 5,
   "id": "9e21e195",
   "metadata": {
    "execution": {
     "iopub.execute_input": "2023-06-22T11:55:03.046966Z",
     "iopub.status.busy": "2023-06-22T11:55:03.046577Z",
     "iopub.status.idle": "2023-06-22T11:55:03.057135Z",
     "shell.execute_reply": "2023-06-22T11:55:03.056023Z"
    },
    "papermill": {
     "duration": 0.02144,
     "end_time": "2023-06-22T11:55:03.060018",
     "exception": false,
     "start_time": "2023-06-22T11:55:03.038578",
     "status": "completed"
    },
    "tags": []
   },
   "outputs": [
    {
     "name": "stdout",
     "output_type": "stream",
     "text": [
      "[0.         0.26179939 0.52359878 0.78539816 1.04719755 1.30899694\n",
      " 1.57079633 1.83259571 2.0943951  2.35619449 2.61799388 2.87979327\n",
      " 3.14159265 3.40339204 3.66519143 3.92699082 4.1887902  4.45058959\n",
      " 4.71238898 4.97418837 5.23598776 5.49778714 5.75958653 6.02138592\n",
      " 6.28318531]\n",
      "[0.         0.41113786 0.58568554 0.72273425 0.84106867 0.94796974\n",
      " 1.04719755 1.1410209  1.23095942 1.31811607 1.40334825 1.48736624\n",
      " 1.57079633 1.65422641 1.73824441 1.82347658 1.91063324 2.00057176\n",
      " 2.0943951  2.19362291 2.30052398 2.41885841 2.55590711 2.73045479\n",
      " 3.14159265]\n"
     ]
    }
   ],
   "source": [
    "# Create Azimuth Edges\n",
    "azimuth_edges = np.linspace(0, 2 * np.pi, bin_num + 1)\n",
    "print(azimuth_edges)\n",
    "\n",
    "# Create Zenith Edges\n",
    "zenith_edges = []\n",
    "zenith_edges.append(0)\n",
    "for bin_idx in range(1, bin_num):\n",
    "    zenith_edges.append(np.arccos(np.cos(zenith_edges[-1]) - 2 / (bin_num)))\n",
    "zenith_edges.append(np.pi)\n",
    "zenith_edges = np.array(zenith_edges)\n",
    "print(zenith_edges)"
   ]
  },
  {
   "attachments": {},
   "cell_type": "markdown",
   "id": "32971779",
   "metadata": {
    "papermill": {
     "duration": 0.007386,
     "end_time": "2023-06-22T11:55:03.075515",
     "exception": false,
     "start_time": "2023-06-22T11:55:03.068129",
     "status": "completed"
    },
    "tags": []
   },
   "source": [
    "## Define a function converts from prediction to angles\n",
    "\n"
   ]
  },
  {
   "cell_type": "code",
   "execution_count": 6,
   "id": "7a8736df",
   "metadata": {
    "execution": {
     "iopub.execute_input": "2023-06-22T11:55:03.093025Z",
     "iopub.status.busy": "2023-06-22T11:55:03.092258Z",
     "iopub.status.idle": "2023-06-22T11:55:03.107153Z",
     "shell.execute_reply": "2023-06-22T11:55:03.106139Z"
    },
    "papermill": {
     "duration": 0.026467,
     "end_time": "2023-06-22T11:55:03.109638",
     "exception": false,
     "start_time": "2023-06-22T11:55:03.083171",
     "status": "completed"
    },
    "tags": []
   },
   "outputs": [],
   "source": [
    "angle_bin_zenith0 = np.tile(zenith_edges[:-1], bin_num)\n",
    "angle_bin_zenith1 = np.tile(zenith_edges[1:], bin_num)\n",
    "angle_bin_azimuth0 = np.repeat(azimuth_edges[:-1], bin_num)\n",
    "angle_bin_azimuth1 = np.repeat(azimuth_edges[1:], bin_num)\n",
    "\n",
    "angle_bin_area = (angle_bin_azimuth1 - angle_bin_azimuth0) * (np.cos(angle_bin_zenith0) - np.cos(angle_bin_zenith1))\n",
    "angle_bin_vector_sum_x = (np.sin(angle_bin_azimuth1) - np.sin(angle_bin_azimuth0)) * ((angle_bin_zenith1 - angle_bin_zenith0) / 2 - (np.sin(2 * angle_bin_zenith1) - np.sin(2 * angle_bin_zenith0)) / 4)\n",
    "angle_bin_vector_sum_y = (np.cos(angle_bin_azimuth0) - np.cos(angle_bin_azimuth1)) * ((angle_bin_zenith1 - angle_bin_zenith0) / 2 - (np.sin(2 * angle_bin_zenith1) - np.sin(2 * angle_bin_zenith0)) / 4)\n",
    "angle_bin_vector_sum_z = (angle_bin_azimuth1 - angle_bin_azimuth0) * ((np.cos(2 * angle_bin_zenith0) - np.cos(2 * angle_bin_zenith1)) / 4)\n",
    "\n",
    "angle_bin_vector_mean_x = angle_bin_vector_sum_x / angle_bin_area\n",
    "angle_bin_vector_mean_y = angle_bin_vector_sum_y / angle_bin_area\n",
    "angle_bin_vector_mean_z = angle_bin_vector_sum_z / angle_bin_area\n",
    "\n",
    "angle_bin_vector = np.zeros((1, bin_num * bin_num, 3))\n",
    "angle_bin_vector[:, :, 0] = angle_bin_vector_mean_x\n",
    "angle_bin_vector[:, :, 1] = angle_bin_vector_mean_y\n",
    "angle_bin_vector[:, :, 2] = angle_bin_vector_mean_z\n",
    "\n",
    "angle_bin_vector_unit = angle_bin_vector[0].copy()\n",
    "angle_bin_vector_unit /= np.sqrt((angle_bin_vector_unit**2).sum(axis=1).reshape((-1, 1)))"
   ]
  },
  {
   "cell_type": "code",
   "execution_count": 7,
   "id": "e333e2f4",
   "metadata": {
    "execution": {
     "iopub.execute_input": "2023-06-22T11:55:03.126489Z",
     "iopub.status.busy": "2023-06-22T11:55:03.126153Z",
     "iopub.status.idle": "2023-06-22T11:55:03.135136Z",
     "shell.execute_reply": "2023-06-22T11:55:03.134146Z"
    },
    "papermill": {
     "duration": 0.019539,
     "end_time": "2023-06-22T11:55:03.137284",
     "exception": false,
     "start_time": "2023-06-22T11:55:03.117745",
     "status": "completed"
    },
    "tags": []
   },
   "outputs": [],
   "source": [
    "def pred_to_angle(pred, epsilon = 1e-8):\n",
    "    # Convert prediction\n",
    "    pred_vector = (pred.reshape((-1, bin_num**2, 1)) * angle_bin_vector).sum(axis = 1)\n",
    "    \n",
    "    # Normalize\n",
    "    pred_vector_norm = np.sqrt((pred_vector**2).sum(axis = 1))\n",
    "    mask = pred_vector_norm < epsilon\n",
    "    pred_vector_norm[mask] = 1\n",
    "    \n",
    "    # Assign <1, 0, 0> to very small vectors (badly predicted)\n",
    "    pred_vector /= pred_vector_norm.reshape((-1, 1))\n",
    "    pred_vector[mask] = np.array([1., 0., 0.])\n",
    "    \n",
    "    # Convert to angle\n",
    "    azimuth = np.arctan2(pred_vector[:, 1], pred_vector[:, 0])\n",
    "    azimuth[azimuth < 0] += 2 * np.pi\n",
    "    zenith = np.arccos(pred_vector[:, 2])\n",
    "    \n",
    "    # Mask bad norm predictions as 0, 0\n",
    "    azimuth[mask] = 0.\n",
    "    zenith[mask] = 0.\n",
    "    \n",
    "    return azimuth, zenith"
   ]
  },
  {
   "cell_type": "markdown",
   "id": "a087dec9",
   "metadata": {
    "papermill": {
     "duration": 0.006863,
     "end_time": "2023-06-22T11:55:03.151060",
     "exception": false,
     "start_time": "2023-06-22T11:55:03.144197",
     "status": "completed"
    },
    "tags": []
   },
   "source": [
    "## Weighted-Vector Ensemble"
   ]
  },
  {
   "cell_type": "code",
   "execution_count": 8,
   "id": "8c0ac4e6",
   "metadata": {
    "execution": {
     "iopub.execute_input": "2023-06-22T11:55:03.166764Z",
     "iopub.status.busy": "2023-06-22T11:55:03.166406Z",
     "iopub.status.idle": "2023-06-22T11:55:03.176191Z",
     "shell.execute_reply": "2023-06-22T11:55:03.175062Z"
    },
    "papermill": {
     "duration": 0.020385,
     "end_time": "2023-06-22T11:55:03.178324",
     "exception": false,
     "start_time": "2023-06-22T11:55:03.157939",
     "status": "completed"
    },
    "tags": []
   },
   "outputs": [],
   "source": [
    "def weighted_vector_ensemble(angles, weight):\n",
    "    # Convert angle to vector\n",
    "    vec_models = list()\n",
    "    for angle in angles:\n",
    "        az, zen = angle\n",
    "        sa = np.sin(az)\n",
    "        ca = np.cos(az)\n",
    "        sz = np.sin(zen)\n",
    "        cz = np.cos(zen)\n",
    "        vec = np.stack([sz * ca, sz * sa, cz], axis=1)\n",
    "        vec_models.append(vec)\n",
    "    vec_models = np.array(vec_models)\n",
    "\n",
    "    # Weighted-mean\n",
    "    vec_mean = (weight.reshape((-1, 1, 1)) * vec_models).sum(axis=0) / weight.sum()\n",
    "    vec_mean /= np.sqrt((vec_mean**2).sum(axis=1)).reshape((-1, 1))\n",
    "\n",
    "    # Convert vector to angle\n",
    "    zenith = np.arccos(vec_mean[:, 2])\n",
    "    azimuth = np.arctan2(vec_mean[:, 1], vec_mean[:, 0])\n",
    "    azimuth[azimuth < 0] += 2 * np.pi\n",
    "    \n",
    "    return azimuth, zenith"
   ]
  },
  {
   "attachments": {},
   "cell_type": "markdown",
   "id": "02084595",
   "metadata": {
    "papermill": {
     "duration": 0.006544,
     "end_time": "2023-06-22T11:55:03.191790",
     "exception": false,
     "start_time": "2023-06-22T11:55:03.185246",
     "status": "completed"
    },
    "tags": []
   },
   "source": [
    "## Single event reader function\n",
    "\n"
   ]
  },
  {
   "cell_type": "code",
   "execution_count": 9,
   "id": "c260e4f1",
   "metadata": {
    "execution": {
     "iopub.execute_input": "2023-06-22T11:55:03.207407Z",
     "iopub.status.busy": "2023-06-22T11:55:03.207034Z",
     "iopub.status.idle": "2023-06-22T11:55:03.222950Z",
     "shell.execute_reply": "2023-06-22T11:55:03.221832Z"
    },
    "papermill": {
     "duration": 0.026458,
     "end_time": "2023-06-22T11:55:03.225013",
     "exception": false,
     "start_time": "2023-06-22T11:55:03.198555",
     "status": "completed"
    },
    "tags": []
   },
   "outputs": [],
   "source": [
    "# Placeholder\n",
    "open_batch_dict = dict()\n",
    "\n",
    "# Read single event from batch_meta_df\n",
    "def read_event(event_idx, batch_meta_df, pulse_count):\n",
    "    # Read metadata\n",
    "    batch_id, first_pulse_index, last_pulse_index = batch_meta_df.iloc[event_idx][[\"batch_id\", \"first_pulse_index\", \"last_pulse_index\"]].astype(\"int\")\n",
    "\n",
    "    # close past batch df\n",
    "    if batch_id - 1 in open_batch_dict.keys():\n",
    "        del open_batch_dict[batch_id - 1]\n",
    "\n",
    "    # open current batch df\n",
    "    if batch_id not in open_batch_dict.keys():\n",
    "        open_batch_dict.update({batch_id: pd.read_parquet(test_format.format(batch_id=batch_id))})\n",
    "    \n",
    "    batch_df = open_batch_dict[batch_id]\n",
    "    \n",
    "    # Read event\n",
    "    event_feature = batch_df[first_pulse_index:last_pulse_index + 1]\n",
    "    sensor_id = event_feature.sensor_id\n",
    "    \n",
    "    # Merge features into single structured array\n",
    "    dtype = [(\"time\", \"float16\"),\n",
    "             (\"charge\", \"float16\"),\n",
    "             (\"auxiliary\", \"float16\"),\n",
    "             (\"x\", \"float16\"),\n",
    "             (\"y\", \"float16\"),\n",
    "             (\"z\", \"float16\"),\n",
    "             (\"rank\", \"short\")]    \n",
    "    \n",
    "    # Create event_x\n",
    "    event_x = np.zeros(last_pulse_index - first_pulse_index + 1, dtype)\n",
    "    event_x[\"time\"] = event_feature.time.values - event_feature.time.min()\n",
    "    event_x[\"charge\"] = event_feature.charge.values\n",
    "    event_x[\"auxiliary\"] = event_feature.auxiliary.values\n",
    "    event_x[\"x\"] = sensor_geometry_df.x[sensor_id].values\n",
    "    event_x[\"y\"] = sensor_geometry_df.y[sensor_id].values\n",
    "    event_x[\"z\"] = sensor_geometry_df.z[sensor_id].values\n",
    "\n",
    "    # For long event, pick-up\n",
    "    if len(event_x) > pulse_count:\n",
    "        # Find valid time window\n",
    "        t_peak = event_x[\"time\"][event_x[\"charge\"].argmax()]\n",
    "        t_valid_min = t_peak - t_valid_length\n",
    "        t_valid_max = t_peak + t_valid_length\n",
    "        t_valid = (event_x[\"time\"] > t_valid_min) * (event_x[\"time\"] < t_valid_max)\n",
    "\n",
    "        # Rank\n",
    "        event_x[\"rank\"] = 2 * (1 - event_x[\"auxiliary\"]) + (t_valid)\n",
    "\n",
    "        # Sort by Rank and Charge (important goes to backward)\n",
    "        event_x = np.sort(event_x, order = [\"rank\", \"charge\"])\n",
    "\n",
    "        # pick-up from backward\n",
    "        event_x = event_x[-pulse_count:]\n",
    "\n",
    "        # Sort events by time \n",
    "        event_x = np.sort(event_x, order = \"time\")\n",
    "\n",
    "    return event_idx, len(event_x), event_x"
   ]
  },
  {
   "cell_type": "markdown",
   "id": "95d37f11",
   "metadata": {
    "papermill": {
     "duration": 0.006653,
     "end_time": "2023-06-22T11:55:03.238824",
     "exception": false,
     "start_time": "2023-06-22T11:55:03.232171",
     "status": "completed"
    },
    "tags": []
   },
   "source": [
    "## Test metadata"
   ]
  },
  {
   "cell_type": "code",
   "execution_count": 10,
   "id": "60bf6b47",
   "metadata": {
    "execution": {
     "iopub.execute_input": "2023-06-22T11:55:03.254360Z",
     "iopub.status.busy": "2023-06-22T11:55:03.253633Z",
     "iopub.status.idle": "2023-06-22T11:55:03.335613Z",
     "shell.execute_reply": "2023-06-22T11:55:03.334806Z"
    },
    "papermill": {
     "duration": 0.092411,
     "end_time": "2023-06-22T11:55:03.338017",
     "exception": false,
     "start_time": "2023-06-22T11:55:03.245606",
     "status": "completed"
    },
    "tags": []
   },
   "outputs": [],
   "source": [
    "# Read Test Meta data\n",
    "test_meta_df = pq.read_table(home_dir + 'test_meta.parquet').to_pandas()\n",
    "batch_counts = test_meta_df.batch_id.value_counts().sort_index()\n",
    "\n",
    "batch_max_index = batch_counts.cumsum()\n",
    "batch_max_index[test_meta_df.batch_id.min() - 1] = 0\n",
    "batch_max_index = batch_max_index.sort_index()\n",
    "\n",
    "# Support Function\n",
    "def test_meta_df_spliter(batch_id):\n",
    "    return test_meta_df.loc[batch_max_index[batch_id - 1]:batch_max_index[batch_id] - 1]"
   ]
  },
  {
   "cell_type": "markdown",
   "id": "4dd02c62",
   "metadata": {
    "papermill": {
     "duration": 0.006621,
     "end_time": "2023-06-22T11:55:03.351694",
     "exception": false,
     "start_time": "2023-06-22T11:55:03.345073",
     "status": "completed"
    },
    "tags": []
   },
   "source": [
    "## Read test data and predict batchwise"
   ]
  },
  {
   "cell_type": "code",
   "execution_count": 11,
   "id": "bf4f7fa4",
   "metadata": {
    "execution": {
     "iopub.execute_input": "2023-06-22T11:55:03.367741Z",
     "iopub.status.busy": "2023-06-22T11:55:03.366605Z",
     "iopub.status.idle": "2023-06-22T11:55:25.033445Z",
     "shell.execute_reply": "2023-06-22T11:55:25.032051Z"
    },
    "papermill": {
     "duration": 21.678412,
     "end_time": "2023-06-22T11:55:25.036887",
     "exception": false,
     "start_time": "2023-06-22T11:55:03.358475",
     "status": "completed"
    },
    "tags": []
   },
   "outputs": [],
   "source": [
    "# Get Batch IDs\n",
    "test_batch_ids = test_meta_df.batch_id.unique()\n",
    "\n",
    "# Submission Placeholders\n",
    "test_event_id = []\n",
    "test_azimuth = []\n",
    "test_zenith = []\n",
    "\n",
    "# Batch Loop\n",
    "for batch_id in test_batch_ids:\n",
    "    # Batch Meta DF\n",
    "    batch_meta_df = test_meta_df_spliter(batch_id)\n",
    "\n",
    "    # Set Pulses\n",
    "    test_x = np.zeros((len(batch_meta_df), pulse_count, feature_count), dtype = \"float16\")    \n",
    "    test_x[:, :, 2] = -1    \n",
    "\n",
    "    # Read Event Data\n",
    "    def read_event_local(event_idx):\n",
    "        return read_event(event_idx, batch_meta_df, pulse_count)\n",
    "    \n",
    "    # Multiprocess Events\n",
    "    iterator = range(len(batch_meta_df))\n",
    "    with multiprocessing.Pool() as pool:\n",
    "        for event_idx, pulsecount, event_x in pool.map(read_event_local, iterator):\n",
    "            # Features\n",
    "            test_x[event_idx, :pulsecount, 0] = event_x[\"time\"]\n",
    "            test_x[event_idx, :pulsecount, 1] = event_x[\"charge\"]\n",
    "            test_x[event_idx, :pulsecount, 2] = event_x[\"auxiliary\"]\n",
    "            test_x[event_idx, :pulsecount, 3] = event_x[\"x\"]\n",
    "            test_x[event_idx, :pulsecount, 4] = event_x[\"y\"]\n",
    "            test_x[event_idx, :pulsecount, 5] = event_x[\"z\"]\n",
    "    \n",
    "    del batch_meta_df\n",
    "    \n",
    "    # Normalize\n",
    "    test_x[:, :, 0] /= 1000  # time\n",
    "    test_x[:, :, 1] /= 300  # charge\n",
    "    test_x[:, :, 3:] /= 600  # space\n",
    "        \n",
    "    # Predict\n",
    "    pred_angles = []\n",
    "    for model in models:\n",
    "        pred_model = model.predict(test_x, verbose=0)\n",
    "        az_model, zen_model = pred_to_angle(pred_model)\n",
    "        pred_angles.append((az_model, zen_model))\n",
    "    \n",
    "    # Get Predicted Azimuth and Zenith\n",
    "    pred_azimuth, pred_zenith = weighted_vector_ensemble(pred_angles, model_weights)\n",
    "    \n",
    "    # Get Event IDs\n",
    "    event_ids = test_meta_df.event_id[test_meta_df.batch_id == batch_id].values\n",
    "    \n",
    "    # Finalize \n",
    "    for event_id, azimuth, zenith in zip(event_ids, pred_azimuth, pred_zenith):\n",
    "        if np.isfinite(azimuth) and np.isfinite(zenith):\n",
    "            test_event_id.append(int(event_id))\n",
    "            test_azimuth.append(azimuth)\n",
    "            test_zenith.append(zenith)\n",
    "        else:\n",
    "            test_event_id.append(int(event_id))\n",
    "            test_azimuth.append(0.)\n",
    "            test_zenith.append(0.)"
   ]
  },
  {
   "cell_type": "markdown",
   "id": "77b3eb66",
   "metadata": {
    "papermill": {
     "duration": 0.006842,
     "end_time": "2023-06-22T11:55:25.051576",
     "exception": false,
     "start_time": "2023-06-22T11:55:25.044734",
     "status": "completed"
    },
    "tags": []
   },
   "source": [
    "## Create Submission"
   ]
  },
  {
   "cell_type": "code",
   "execution_count": 12,
   "id": "af0a285a",
   "metadata": {
    "execution": {
     "iopub.execute_input": "2023-06-22T11:55:25.067651Z",
     "iopub.status.busy": "2023-06-22T11:55:25.067257Z",
     "iopub.status.idle": "2023-06-22T11:55:25.079525Z",
     "shell.execute_reply": "2023-06-22T11:55:25.078574Z"
    },
    "papermill": {
     "duration": 0.023239,
     "end_time": "2023-06-22T11:55:25.081918",
     "exception": false,
     "start_time": "2023-06-22T11:55:25.058679",
     "status": "completed"
    },
    "tags": []
   },
   "outputs": [],
   "source": [
    "# Create and Save Submission.csv\n",
    "submission_df = pd.DataFrame({\"event_id\": test_event_id,\n",
    "                              \"azimuth\": test_azimuth,\n",
    "                              \"zenith\": test_zenith})\n",
    "submission_df = submission_df.sort_values(by = ['event_id'])\n",
    "submission_df.to_csv(\"submission.csv\", index = False)"
   ]
  },
  {
   "cell_type": "code",
   "execution_count": 13,
   "id": "849cd796",
   "metadata": {
    "execution": {
     "iopub.execute_input": "2023-06-22T11:55:25.098460Z",
     "iopub.status.busy": "2023-06-22T11:55:25.097361Z",
     "iopub.status.idle": "2023-06-22T11:55:25.114736Z",
     "shell.execute_reply": "2023-06-22T11:55:25.113505Z"
    },
    "papermill": {
     "duration": 0.02817,
     "end_time": "2023-06-22T11:55:25.117101",
     "exception": false,
     "start_time": "2023-06-22T11:55:25.088931",
     "status": "completed"
    },
    "tags": []
   },
   "outputs": [
    {
     "data": {
      "text/html": [
       "<div>\n",
       "<style scoped>\n",
       "    .dataframe tbody tr th:only-of-type {\n",
       "        vertical-align: middle;\n",
       "    }\n",
       "\n",
       "    .dataframe tbody tr th {\n",
       "        vertical-align: top;\n",
       "    }\n",
       "\n",
       "    .dataframe thead th {\n",
       "        text-align: right;\n",
       "    }\n",
       "</style>\n",
       "<table border=\"1\" class=\"dataframe\">\n",
       "  <thead>\n",
       "    <tr style=\"text-align: right;\">\n",
       "      <th></th>\n",
       "      <th>event_id</th>\n",
       "      <th>azimuth</th>\n",
       "      <th>zenith</th>\n",
       "    </tr>\n",
       "  </thead>\n",
       "  <tbody>\n",
       "    <tr>\n",
       "      <th>0</th>\n",
       "      <td>2092</td>\n",
       "      <td>1.925599</td>\n",
       "      <td>1.546070</td>\n",
       "    </tr>\n",
       "    <tr>\n",
       "      <th>1</th>\n",
       "      <td>7344</td>\n",
       "      <td>3.405561</td>\n",
       "      <td>2.528163</td>\n",
       "    </tr>\n",
       "    <tr>\n",
       "      <th>2</th>\n",
       "      <td>9482</td>\n",
       "      <td>4.585169</td>\n",
       "      <td>1.533669</td>\n",
       "    </tr>\n",
       "  </tbody>\n",
       "</table>\n",
       "</div>"
      ],
      "text/plain": [
       "   event_id   azimuth    zenith\n",
       "0      2092  1.925599  1.546070\n",
       "1      7344  3.405561  2.528163\n",
       "2      9482  4.585169  1.533669"
      ]
     },
     "execution_count": 13,
     "metadata": {},
     "output_type": "execute_result"
    }
   ],
   "source": [
    "# Summary\n",
    "submission_df.head()"
   ]
  }
 ],
 "metadata": {
  "kernelspec": {
   "display_name": "Python 3",
   "language": "python",
   "name": "python3"
  },
  "language_info": {
   "codemirror_mode": {
    "name": "ipython",
    "version": 3
   },
   "file_extension": ".py",
   "mimetype": "text/x-python",
   "name": "python",
   "nbconvert_exporter": "python",
   "pygments_lexer": "ipython3",
   "version": "3.7.12"
  },
  "papermill": {
   "default_parameters": {},
   "duration": 56.705086,
   "end_time": "2023-06-22T11:55:28.177551",
   "environment_variables": {},
   "exception": null,
   "input_path": "__notebook__.ipynb",
   "output_path": "__notebook__.ipynb",
   "parameters": {},
   "start_time": "2023-06-22T11:54:31.472465",
   "version": "2.3.4"
  }
 },
 "nbformat": 4,
 "nbformat_minor": 5
}
