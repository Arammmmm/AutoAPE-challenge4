{
 "cells": [
  {
   "cell_type": "markdown",
   "id": "9a77e8a7",
   "metadata": {},
   "source": [
    "\n",
    "# library"
   ]
  },
  {
   "cell_type": "code",
   "execution_count": 72,
   "id": "bd71ebfa",
   "metadata": {},
   "outputs": [],
   "source": [
    "import warnings\n",
    "import pandas as pd \n",
    "import numpy as np\n",
    "\n",
    "import seaborn as sns\n",
    "import matplotlib.pyplot as plt\n",
    "\n",
    "from sklearn.preprocessing import LabelEncoder\n",
    "from sklearn.preprocessing import StandardScaler\n",
    "from sklearn.model_selection import train_test_split \n",
    "from sklearn.model_selection import StratifiedKFold\n",
    "\n",
    "import optuna\n",
    "from sklearn.neighbors import KNeighborsRegressor\n",
    "from sklearn.ensemble import RandomForestRegressor \n",
    "from catboost import CatBoostRegressor\n",
    "from xgboost import XGBRegressor, plot_importance\n",
    "import lightgbm as lgb \n",
    "\n",
    "from sklearn.metrics import mean_absolute_error\n",
    "\n",
    "\n",
    "%matplotlib inline\n",
    "warnings.filterwarnings('ignore')"
   ]
  },
  {
   "cell_type": "markdown",
   "id": "e5cf42ef",
   "metadata": {},
   "source": [
    "# data load"
   ]
  },
  {
   "cell_type": "markdown",
   "id": "a24baff0",
   "metadata": {},
   "source": [
    "빠른 학습을 위해 parquet 형태로 변환"
   ]
  },
  {
   "cell_type": "code",
   "execution_count": 22,
   "id": "485216ee",
   "metadata": {},
   "outputs": [],
   "source": [
    "def csv_to_parquet(csv_path, save_name):\n",
    "    df = pd.read_csv(csv_path)\n",
    "    df.to_parquet(f'./data/{save_name}.parquet')\n",
    "    del df \n",
    "    gc.collect()\n",
    "    print(save_name, 'Done.')\n",
    "\n",
    "csv_to_parquet('./data/train.csv', 'train')\n",
    "csv_to_parquet('./data/test.csv', 'test')"
   ]
  },
  {
   "cell_type": "code",
   "execution_count": 25,
   "id": "7adec098",
   "metadata": {},
   "outputs": [],
   "source": [
    "data_info = pd.read_csv('./data/data_info.csv')\n",
    "train = pd.read_parquet('./data/train.parquet')\n",
    "test = pd.read_parquet('./data/test.parquet')"
   ]
  },
  {
   "cell_type": "code",
   "execution_count": 26,
   "id": "6c6f465a",
   "metadata": {},
   "outputs": [
    {
     "data": {
      "text/html": [
       "<div>\n",
       "<style scoped>\n",
       "    .dataframe tbody tr th:only-of-type {\n",
       "        vertical-align: middle;\n",
       "    }\n",
       "\n",
       "    .dataframe tbody tr th {\n",
       "        vertical-align: top;\n",
       "    }\n",
       "\n",
       "    .dataframe thead th {\n",
       "        text-align: right;\n",
       "    }\n",
       "</style>\n",
       "<table border=\"1\" class=\"dataframe\">\n",
       "  <thead>\n",
       "    <tr style=\"text-align: right;\">\n",
       "      <th></th>\n",
       "      <th>id</th>\n",
       "      <th>base_date</th>\n",
       "      <th>day_of_week</th>\n",
       "      <th>base_hour</th>\n",
       "      <th>lane_count</th>\n",
       "      <th>road_rating</th>\n",
       "      <th>road_name</th>\n",
       "      <th>multi_linked</th>\n",
       "      <th>connect_code</th>\n",
       "      <th>maximum_speed_limit</th>\n",
       "      <th>...</th>\n",
       "      <th>road_type</th>\n",
       "      <th>start_node_name</th>\n",
       "      <th>start_latitude</th>\n",
       "      <th>start_longitude</th>\n",
       "      <th>start_turn_restricted</th>\n",
       "      <th>end_node_name</th>\n",
       "      <th>end_latitude</th>\n",
       "      <th>end_longitude</th>\n",
       "      <th>end_turn_restricted</th>\n",
       "      <th>target</th>\n",
       "    </tr>\n",
       "  </thead>\n",
       "  <tbody>\n",
       "    <tr>\n",
       "      <th>0</th>\n",
       "      <td>TRAIN_0000000</td>\n",
       "      <td>20220623</td>\n",
       "      <td>목</td>\n",
       "      <td>17</td>\n",
       "      <td>1</td>\n",
       "      <td>106</td>\n",
       "      <td>지방도1112호선</td>\n",
       "      <td>0</td>\n",
       "      <td>0</td>\n",
       "      <td>60.0</td>\n",
       "      <td>...</td>\n",
       "      <td>3</td>\n",
       "      <td>제3교래교</td>\n",
       "      <td>33.427747</td>\n",
       "      <td>126.662612</td>\n",
       "      <td>없음</td>\n",
       "      <td>제3교래교</td>\n",
       "      <td>33.427749</td>\n",
       "      <td>126.662335</td>\n",
       "      <td>없음</td>\n",
       "      <td>52.0</td>\n",
       "    </tr>\n",
       "    <tr>\n",
       "      <th>1</th>\n",
       "      <td>TRAIN_0000001</td>\n",
       "      <td>20220728</td>\n",
       "      <td>목</td>\n",
       "      <td>21</td>\n",
       "      <td>2</td>\n",
       "      <td>103</td>\n",
       "      <td>일반국도11호선</td>\n",
       "      <td>0</td>\n",
       "      <td>0</td>\n",
       "      <td>60.0</td>\n",
       "      <td>...</td>\n",
       "      <td>0</td>\n",
       "      <td>광양사거리</td>\n",
       "      <td>33.500730</td>\n",
       "      <td>126.529107</td>\n",
       "      <td>있음</td>\n",
       "      <td>KAL사거리</td>\n",
       "      <td>33.504811</td>\n",
       "      <td>126.526240</td>\n",
       "      <td>없음</td>\n",
       "      <td>30.0</td>\n",
       "    </tr>\n",
       "    <tr>\n",
       "      <th>2</th>\n",
       "      <td>TRAIN_0000002</td>\n",
       "      <td>20211010</td>\n",
       "      <td>일</td>\n",
       "      <td>7</td>\n",
       "      <td>2</td>\n",
       "      <td>103</td>\n",
       "      <td>일반국도16호선</td>\n",
       "      <td>0</td>\n",
       "      <td>0</td>\n",
       "      <td>80.0</td>\n",
       "      <td>...</td>\n",
       "      <td>0</td>\n",
       "      <td>창고천교</td>\n",
       "      <td>33.279145</td>\n",
       "      <td>126.368598</td>\n",
       "      <td>없음</td>\n",
       "      <td>상창육교</td>\n",
       "      <td>33.280072</td>\n",
       "      <td>126.362147</td>\n",
       "      <td>없음</td>\n",
       "      <td>61.0</td>\n",
       "    </tr>\n",
       "    <tr>\n",
       "      <th>3</th>\n",
       "      <td>TRAIN_0000003</td>\n",
       "      <td>20220311</td>\n",
       "      <td>금</td>\n",
       "      <td>13</td>\n",
       "      <td>2</td>\n",
       "      <td>107</td>\n",
       "      <td>태평로</td>\n",
       "      <td>0</td>\n",
       "      <td>0</td>\n",
       "      <td>50.0</td>\n",
       "      <td>...</td>\n",
       "      <td>0</td>\n",
       "      <td>남양리조트</td>\n",
       "      <td>33.246081</td>\n",
       "      <td>126.567204</td>\n",
       "      <td>없음</td>\n",
       "      <td>서현주택</td>\n",
       "      <td>33.245565</td>\n",
       "      <td>126.566228</td>\n",
       "      <td>없음</td>\n",
       "      <td>20.0</td>\n",
       "    </tr>\n",
       "    <tr>\n",
       "      <th>4</th>\n",
       "      <td>TRAIN_0000004</td>\n",
       "      <td>20211005</td>\n",
       "      <td>화</td>\n",
       "      <td>8</td>\n",
       "      <td>2</td>\n",
       "      <td>103</td>\n",
       "      <td>일반국도12호선</td>\n",
       "      <td>0</td>\n",
       "      <td>0</td>\n",
       "      <td>80.0</td>\n",
       "      <td>...</td>\n",
       "      <td>0</td>\n",
       "      <td>애월샷시</td>\n",
       "      <td>33.462214</td>\n",
       "      <td>126.326551</td>\n",
       "      <td>없음</td>\n",
       "      <td>애월입구</td>\n",
       "      <td>33.462677</td>\n",
       "      <td>126.330152</td>\n",
       "      <td>없음</td>\n",
       "      <td>38.0</td>\n",
       "    </tr>\n",
       "  </tbody>\n",
       "</table>\n",
       "<p>5 rows × 23 columns</p>\n",
       "</div>"
      ],
      "text/plain": [
       "              id  base_date day_of_week  base_hour  lane_count  road_rating  \\\n",
       "0  TRAIN_0000000   20220623           목         17           1          106   \n",
       "1  TRAIN_0000001   20220728           목         21           2          103   \n",
       "2  TRAIN_0000002   20211010           일          7           2          103   \n",
       "3  TRAIN_0000003   20220311           금         13           2          107   \n",
       "4  TRAIN_0000004   20211005           화          8           2          103   \n",
       "\n",
       "   road_name  multi_linked  connect_code  maximum_speed_limit  ...  road_type  \\\n",
       "0  지방도1112호선             0             0                 60.0  ...          3   \n",
       "1   일반국도11호선             0             0                 60.0  ...          0   \n",
       "2   일반국도16호선             0             0                 80.0  ...          0   \n",
       "3        태평로             0             0                 50.0  ...          0   \n",
       "4   일반국도12호선             0             0                 80.0  ...          0   \n",
       "\n",
       "   start_node_name  start_latitude  start_longitude start_turn_restricted  \\\n",
       "0            제3교래교       33.427747       126.662612                    없음   \n",
       "1            광양사거리       33.500730       126.529107                    있음   \n",
       "2             창고천교       33.279145       126.368598                    없음   \n",
       "3            남양리조트       33.246081       126.567204                    없음   \n",
       "4             애월샷시       33.462214       126.326551                    없음   \n",
       "\n",
       "   end_node_name  end_latitude end_longitude end_turn_restricted  target  \n",
       "0          제3교래교     33.427749    126.662335                  없음    52.0  \n",
       "1         KAL사거리     33.504811    126.526240                  없음    30.0  \n",
       "2           상창육교     33.280072    126.362147                  없음    61.0  \n",
       "3           서현주택     33.245565    126.566228                  없음    20.0  \n",
       "4           애월입구     33.462677    126.330152                  없음    38.0  \n",
       "\n",
       "[5 rows x 23 columns]"
      ]
     },
     "execution_count": 26,
     "metadata": {},
     "output_type": "execute_result"
    }
   ],
   "source": [
    "train.head()"
   ]
  },
  {
   "cell_type": "code",
   "execution_count": 27,
   "id": "308f8a60",
   "metadata": {},
   "outputs": [
    {
     "name": "stdout",
     "output_type": "stream",
     "text": [
      "<class 'pandas.core.frame.DataFrame'>\n",
      "RangeIndex: 4701217 entries, 0 to 4701216\n",
      "Data columns (total 23 columns):\n",
      " #   Column                 Dtype  \n",
      "---  ------                 -----  \n",
      " 0   id                     object \n",
      " 1   base_date              int64  \n",
      " 2   day_of_week            object \n",
      " 3   base_hour              int64  \n",
      " 4   lane_count             int64  \n",
      " 5   road_rating            int64  \n",
      " 6   road_name              object \n",
      " 7   multi_linked           int64  \n",
      " 8   connect_code           int64  \n",
      " 9   maximum_speed_limit    float64\n",
      " 10  vehicle_restricted     float64\n",
      " 11  weight_restricted      float64\n",
      " 12  height_restricted      float64\n",
      " 13  road_type              int64  \n",
      " 14  start_node_name        object \n",
      " 15  start_latitude         float64\n",
      " 16  start_longitude        float64\n",
      " 17  start_turn_restricted  object \n",
      " 18  end_node_name          object \n",
      " 19  end_latitude           float64\n",
      " 20  end_longitude          float64\n",
      " 21  end_turn_restricted    object \n",
      " 22  target                 float64\n",
      "dtypes: float64(9), int64(7), object(7)\n",
      "memory usage: 825.0+ MB\n"
     ]
    }
   ],
   "source": [
    "train.info()"
   ]
  },
  {
   "cell_type": "code",
   "execution_count": 28,
   "id": "15855707",
   "metadata": {},
   "outputs": [
    {
     "data": {
      "text/html": [
       "<div>\n",
       "<style scoped>\n",
       "    .dataframe tbody tr th:only-of-type {\n",
       "        vertical-align: middle;\n",
       "    }\n",
       "\n",
       "    .dataframe tbody tr th {\n",
       "        vertical-align: top;\n",
       "    }\n",
       "\n",
       "    .dataframe thead th {\n",
       "        text-align: right;\n",
       "    }\n",
       "</style>\n",
       "<table border=\"1\" class=\"dataframe\">\n",
       "  <thead>\n",
       "    <tr style=\"text-align: right;\">\n",
       "      <th></th>\n",
       "      <th>id</th>\n",
       "      <th>base_date</th>\n",
       "      <th>day_of_week</th>\n",
       "      <th>base_hour</th>\n",
       "      <th>lane_count</th>\n",
       "      <th>road_rating</th>\n",
       "      <th>road_name</th>\n",
       "      <th>multi_linked</th>\n",
       "      <th>connect_code</th>\n",
       "      <th>maximum_speed_limit</th>\n",
       "      <th>...</th>\n",
       "      <th>height_restricted</th>\n",
       "      <th>road_type</th>\n",
       "      <th>start_node_name</th>\n",
       "      <th>start_latitude</th>\n",
       "      <th>start_longitude</th>\n",
       "      <th>start_turn_restricted</th>\n",
       "      <th>end_node_name</th>\n",
       "      <th>end_latitude</th>\n",
       "      <th>end_longitude</th>\n",
       "      <th>end_turn_restricted</th>\n",
       "    </tr>\n",
       "  </thead>\n",
       "  <tbody>\n",
       "    <tr>\n",
       "      <th>0</th>\n",
       "      <td>TEST_000000</td>\n",
       "      <td>20220825</td>\n",
       "      <td>목</td>\n",
       "      <td>17</td>\n",
       "      <td>3</td>\n",
       "      <td>107</td>\n",
       "      <td>연삼로</td>\n",
       "      <td>0</td>\n",
       "      <td>0</td>\n",
       "      <td>70.0</td>\n",
       "      <td>...</td>\n",
       "      <td>0.0</td>\n",
       "      <td>0</td>\n",
       "      <td>산지2교</td>\n",
       "      <td>33.499427</td>\n",
       "      <td>126.541298</td>\n",
       "      <td>없음</td>\n",
       "      <td>제주은행사거리</td>\n",
       "      <td>33.500772</td>\n",
       "      <td>126.543837</td>\n",
       "      <td>있음</td>\n",
       "    </tr>\n",
       "    <tr>\n",
       "      <th>1</th>\n",
       "      <td>TEST_000001</td>\n",
       "      <td>20220809</td>\n",
       "      <td>화</td>\n",
       "      <td>12</td>\n",
       "      <td>2</td>\n",
       "      <td>103</td>\n",
       "      <td>일반국도12호선</td>\n",
       "      <td>0</td>\n",
       "      <td>0</td>\n",
       "      <td>70.0</td>\n",
       "      <td>...</td>\n",
       "      <td>0.0</td>\n",
       "      <td>3</td>\n",
       "      <td>중문입구</td>\n",
       "      <td>33.258507</td>\n",
       "      <td>126.427003</td>\n",
       "      <td>없음</td>\n",
       "      <td>관광단지입구</td>\n",
       "      <td>33.258119</td>\n",
       "      <td>126.415840</td>\n",
       "      <td>없음</td>\n",
       "    </tr>\n",
       "    <tr>\n",
       "      <th>2</th>\n",
       "      <td>TEST_000002</td>\n",
       "      <td>20220805</td>\n",
       "      <td>금</td>\n",
       "      <td>2</td>\n",
       "      <td>1</td>\n",
       "      <td>103</td>\n",
       "      <td>일반국도16호선</td>\n",
       "      <td>0</td>\n",
       "      <td>0</td>\n",
       "      <td>60.0</td>\n",
       "      <td>...</td>\n",
       "      <td>0.0</td>\n",
       "      <td>0</td>\n",
       "      <td>도순3교</td>\n",
       "      <td>33.258960</td>\n",
       "      <td>126.476508</td>\n",
       "      <td>없음</td>\n",
       "      <td>도순2교</td>\n",
       "      <td>33.259206</td>\n",
       "      <td>126.474687</td>\n",
       "      <td>없음</td>\n",
       "    </tr>\n",
       "    <tr>\n",
       "      <th>3</th>\n",
       "      <td>TEST_000003</td>\n",
       "      <td>20220818</td>\n",
       "      <td>목</td>\n",
       "      <td>23</td>\n",
       "      <td>3</td>\n",
       "      <td>103</td>\n",
       "      <td>일반국도11호선</td>\n",
       "      <td>0</td>\n",
       "      <td>0</td>\n",
       "      <td>70.0</td>\n",
       "      <td>...</td>\n",
       "      <td>0.0</td>\n",
       "      <td>0</td>\n",
       "      <td>아라주공아파트</td>\n",
       "      <td>33.473494</td>\n",
       "      <td>126.545647</td>\n",
       "      <td>없음</td>\n",
       "      <td>인다마을</td>\n",
       "      <td>33.471061</td>\n",
       "      <td>126.545467</td>\n",
       "      <td>없음</td>\n",
       "    </tr>\n",
       "    <tr>\n",
       "      <th>4</th>\n",
       "      <td>TEST_000004</td>\n",
       "      <td>20220810</td>\n",
       "      <td>수</td>\n",
       "      <td>17</td>\n",
       "      <td>3</td>\n",
       "      <td>106</td>\n",
       "      <td>번영로</td>\n",
       "      <td>0</td>\n",
       "      <td>0</td>\n",
       "      <td>70.0</td>\n",
       "      <td>...</td>\n",
       "      <td>0.0</td>\n",
       "      <td>0</td>\n",
       "      <td>부록교 시종점</td>\n",
       "      <td>33.501477</td>\n",
       "      <td>126.569223</td>\n",
       "      <td>없음</td>\n",
       "      <td>봉개교 시종점</td>\n",
       "      <td>33.496863</td>\n",
       "      <td>126.581230</td>\n",
       "      <td>없음</td>\n",
       "    </tr>\n",
       "  </tbody>\n",
       "</table>\n",
       "<p>5 rows × 22 columns</p>\n",
       "</div>"
      ],
      "text/plain": [
       "            id  base_date day_of_week  base_hour  lane_count  road_rating  \\\n",
       "0  TEST_000000   20220825           목         17           3          107   \n",
       "1  TEST_000001   20220809           화         12           2          103   \n",
       "2  TEST_000002   20220805           금          2           1          103   \n",
       "3  TEST_000003   20220818           목         23           3          103   \n",
       "4  TEST_000004   20220810           수         17           3          106   \n",
       "\n",
       "  road_name  multi_linked  connect_code  maximum_speed_limit  ...  \\\n",
       "0       연삼로             0             0                 70.0  ...   \n",
       "1  일반국도12호선             0             0                 70.0  ...   \n",
       "2  일반국도16호선             0             0                 60.0  ...   \n",
       "3  일반국도11호선             0             0                 70.0  ...   \n",
       "4       번영로             0             0                 70.0  ...   \n",
       "\n",
       "   height_restricted  road_type  start_node_name  start_latitude  \\\n",
       "0                0.0          0             산지2교       33.499427   \n",
       "1                0.0          3             중문입구       33.258507   \n",
       "2                0.0          0             도순3교       33.258960   \n",
       "3                0.0          0          아라주공아파트       33.473494   \n",
       "4                0.0          0          부록교 시종점       33.501477   \n",
       "\n",
       "  start_longitude  start_turn_restricted  end_node_name end_latitude  \\\n",
       "0      126.541298                     없음        제주은행사거리    33.500772   \n",
       "1      126.427003                     없음         관광단지입구    33.258119   \n",
       "2      126.476508                     없음           도순2교    33.259206   \n",
       "3      126.545647                     없음           인다마을    33.471061   \n",
       "4      126.569223                     없음        봉개교 시종점    33.496863   \n",
       "\n",
       "  end_longitude  end_turn_restricted  \n",
       "0    126.543837                   있음  \n",
       "1    126.415840                   없음  \n",
       "2    126.474687                   없음  \n",
       "3    126.545467                   없음  \n",
       "4    126.581230                   없음  \n",
       "\n",
       "[5 rows x 22 columns]"
      ]
     },
     "execution_count": 28,
     "metadata": {},
     "output_type": "execute_result"
    }
   ],
   "source": [
    "test.head()"
   ]
  },
  {
   "cell_type": "code",
   "execution_count": 29,
   "id": "f009e618",
   "metadata": {},
   "outputs": [
    {
     "name": "stdout",
     "output_type": "stream",
     "text": [
      "<class 'pandas.core.frame.DataFrame'>\n",
      "RangeIndex: 291241 entries, 0 to 291240\n",
      "Data columns (total 22 columns):\n",
      " #   Column                 Non-Null Count   Dtype  \n",
      "---  ------                 --------------   -----  \n",
      " 0   id                     291241 non-null  object \n",
      " 1   base_date              291241 non-null  int64  \n",
      " 2   day_of_week            291241 non-null  object \n",
      " 3   base_hour              291241 non-null  int64  \n",
      " 4   lane_count             291241 non-null  int64  \n",
      " 5   road_rating            291241 non-null  int64  \n",
      " 6   road_name              291241 non-null  object \n",
      " 7   multi_linked           291241 non-null  int64  \n",
      " 8   connect_code           291241 non-null  int64  \n",
      " 9   maximum_speed_limit    291241 non-null  float64\n",
      " 10  vehicle_restricted     291241 non-null  float64\n",
      " 11  weight_restricted      291241 non-null  float64\n",
      " 12  height_restricted      291241 non-null  float64\n",
      " 13  road_type              291241 non-null  int64  \n",
      " 14  start_node_name        291241 non-null  object \n",
      " 15  start_latitude         291241 non-null  float64\n",
      " 16  start_longitude        291241 non-null  float64\n",
      " 17  start_turn_restricted  291241 non-null  object \n",
      " 18  end_node_name          291241 non-null  object \n",
      " 19  end_latitude           291241 non-null  float64\n",
      " 20  end_longitude          291241 non-null  float64\n",
      " 21  end_turn_restricted    291241 non-null  object \n",
      "dtypes: float64(8), int64(7), object(7)\n",
      "memory usage: 48.9+ MB\n"
     ]
    }
   ],
   "source": [
    "test.info()"
   ]
  },
  {
   "cell_type": "markdown",
   "id": "8fae5cf5",
   "metadata": {},
   "source": [
    "# EDA"
   ]
  },
  {
   "cell_type": "markdown",
   "id": "afcda615",
   "metadata": {},
   "source": [
    "#### 각 컬럼의 카테고리 개수 확인"
   ]
  },
  {
   "cell_type": "code",
   "execution_count": 30,
   "id": "b75c591d",
   "metadata": {},
   "outputs": [
    {
     "name": "stdout",
     "output_type": "stream",
     "text": [
      "id = 4701217\n",
      "base_date = 281\n",
      "day_of_week = 7\n",
      "base_hour = 24\n",
      "lane_count = 3\n",
      "road_rating = 3\n",
      "road_name = 61\n",
      "multi_linked = 2\n",
      "connect_code = 2\n",
      "maximum_speed_limit = 6\n",
      "vehicle_restricted = 1\n",
      "weight_restricted = 4\n",
      "height_restricted = 1\n",
      "road_type = 2\n",
      "start_node_name = 487\n",
      "start_latitude = 586\n",
      "start_longitude = 586\n",
      "start_turn_restricted = 2\n",
      "end_node_name = 487\n",
      "end_latitude = 586\n",
      "end_longitude = 586\n",
      "end_turn_restricted = 2\n",
      "target = 102\n"
     ]
    }
   ],
   "source": [
    "column_names = train.columns.values.tolist()\n",
    "\n",
    "for i in column_names:\n",
    "    print(f\"{i} = {train[i].nunique()}\")"
   ]
  },
  {
   "cell_type": "markdown",
   "id": "246df9bb",
   "metadata": {},
   "source": [
    "#### 날짜/시간/요일별 target 추이 그래프"
   ]
  },
  {
   "cell_type": "code",
   "execution_count": 31,
   "id": "06605029",
   "metadata": {},
   "outputs": [
    {
     "data": {
      "image/png": "[encoded data removed]",
      "text/plain": [
       "<Figure size 1080x864 with 4 Axes>"
      ]
     },
     "metadata": {
      "needs_background": "light"
     },
     "output_type": "display_data"
    }
   ],
   "source": [
    "train['base_date'] = pd.to_datetime(train['base_date'], format = '%Y%m%d')\n",
    "\n",
    "train_date = train[['base_date', 'target']]\n",
    "train_date = train_date.groupby('base_date').mean().reset_index()\n",
    "\n",
    "train_time = train[['base_hour', 'target']]\n",
    "train_time = train_time.groupby('base_hour').mean().reset_index()\n",
    "\n",
    "train_day = train[['day_of_week', 'target']]\n",
    "train_day = train_day.groupby('day_of_week').mean()\n",
    "train_day = train_day.reindex(['월','화','수','목','금','토','일']).reset_index()\n",
    "\n",
    "train_name = train[['road_name', 'target']]\n",
    "train_name = train_name.groupby('road_name').mean().reset_index()\n",
    "\n",
    "fig, axes = plt.subplots(4, figsize=(15,12))\n",
    "\n",
    "sns.lineplot(x='base_date', y='target', data=train_date, ax=axes[0]).set(title='base_date vs target')\n",
    "sns.lineplot(x='base_hour', y='target', data=train_time, ax=axes[1]).set(title='base_hour vs target')\n",
    "sns.lineplot(x='day_of_week', y='target', data=train_day, ax=axes[2]).set(title='day_of_week vs target')\n",
    "sns.barplot(x='road_name', y='target', data=train_name, ax=axes[3]).set(title='road_name vs target')\n",
    "\n",
    "plt.xticks(rotation=90)\n",
    "plt.tight_layout()\n",
    "plt.show()"
   ]
  },
  {
   "cell_type": "markdown",
   "id": "25fb0a73",
   "metadata": {},
   "source": [
    "#### 월별 target"
   ]
  },
  {
   "cell_type": "code",
   "execution_count": 32,
   "id": "3789b71f",
   "metadata": {},
   "outputs": [
    {
     "data": {
      "text/plain": [
       "<AxesSubplot:xlabel='month', ylabel='target'>"
      ]
     },
     "execution_count": 32,
     "metadata": {},
     "output_type": "execute_result"
    },
    {
     "data": {
      "image/png": "[encoded data removed]",
      "text/plain": [
       "<Figure size 720x360 with 1 Axes>"
      ]
     },
     "metadata": {
      "needs_background": "light"
     },
     "output_type": "display_data"
    }
   ],
   "source": [
    "train[\"month\"] = train[\"base_date\"].dt.month\n",
    "\n",
    "plt.figure(figsize=(10,5))\n",
    "sns.barplot(x=\"month\", y=\"target\", data=train)"
   ]
  },
  {
   "cell_type": "markdown",
   "id": "f9965015",
   "metadata": {},
   "source": [
    "#### 계절별 target"
   ]
  },
  {
   "cell_type": "code",
   "execution_count": 33,
   "id": "839ab223",
   "metadata": {},
   "outputs": [
    {
     "data": {
      "text/plain": [
       "<AxesSubplot:xlabel='season', ylabel='target'>"
      ]
     },
     "execution_count": 33,
     "metadata": {},
     "output_type": "execute_result"
    },
    {
     "data": {
      "image/png": "[encoded data removed]",
      "text/plain": [
       "<Figure size 720x360 with 1 Axes>"
      ]
     },
     "metadata": {
      "needs_background": "light"
     },
     "output_type": "display_data"
    }
   ],
   "source": [
    "train['season'] = '-'\n",
    "train.loc[(train['month'] == 3) | (train['month'] == 4) | (train['month'] == 5), 'season'] = 'spring'\n",
    "train.loc[(train['month'] == 6) | (train['month'] == 7) | (train['month'] == 8), 'season'] = 'summer'\n",
    "train.loc[(train['month'] == 9) | (train['month'] == 10) | (train['month'] == 11), 'season'] = 'autumn'\n",
    "train.loc[(train['month'] == 12) | (train['month'] == 1) | (train['month'] == 2), 'season'] = 'winter'\n",
    "train.loc[(train['season']=='-'), 'season'] = 'Na' \n",
    "\n",
    "plt.figure(figsize=(10,5))\n",
    "sns.barplot(x=\"season\", y=\"target\", data=train)"
   ]
  },
  {
   "cell_type": "markdown",
   "id": "c15d1ac0",
   "metadata": {},
   "source": [
    "#### 시간대별 target"
   ]
  },
  {
   "cell_type": "code",
   "execution_count": 34,
   "id": "175aaaa6",
   "metadata": {},
   "outputs": [
    {
     "data": {
      "text/plain": [
       "<AxesSubplot:xlabel='group_time', ylabel='target'>"
      ]
     },
     "execution_count": 34,
     "metadata": {},
     "output_type": "execute_result"
    },
    {
     "data": {
      "image/png": "[encoded data removed]",
      "text/plain": [
       "<Figure size 720x360 with 1 Axes>"
      ]
     },
     "metadata": {
      "needs_background": "light"
     },
     "output_type": "display_data"
    }
   ],
   "source": [
    "train['group_time'] = '-'\n",
    "train.loc[(train['base_hour'] < 6), 'group_time'] = 'down'\n",
    "train.loc[(train['base_hour'] >= 6) & (train['base_hour'] < 12), 'group_time'] = 'morning'\n",
    "train.loc[(train['base_hour'] >=12) & (train['base_hour'] < 19), 'group_time'] = 'afternoon'\n",
    "train.loc[(train['base_hour'] >= 19) & (train['base_hour'] <= 24), 'group_time'] = 'evening'\n",
    "train.loc[(train['group_time'] == '-'), 'group_time'] = 'Na'\n",
    "\n",
    "plt.figure(figsize=(10,5))\n",
    "sns.barplot(x='group_time', y='target', data=train)"
   ]
  },
  {
   "cell_type": "markdown",
   "id": "f2b48b5b",
   "metadata": {},
   "source": [
    "#### 최고 제한 속도(maximum_speed_limit)"
   ]
  },
  {
   "cell_type": "code",
   "execution_count": 35,
   "id": "0f6c94cf",
   "metadata": {},
   "outputs": [
    {
     "data": {
      "text/plain": [
       "<AxesSubplot:xlabel='maximum_speed_limit', ylabel='target'>"
      ]
     },
     "execution_count": 35,
     "metadata": {},
     "output_type": "execute_result"
    },
    {
     "data": {
      "image/png": "[encoded data removed]",
      "text/plain": [
       "<Figure size 432x288 with 1 Axes>"
      ]
     },
     "metadata": {
      "needs_background": "light"
     },
     "output_type": "display_data"
    }
   ],
   "source": [
    "sns.boxplot(x=\"maximum_speed_limit\", y=\"target\", data=train)"
   ]
  },
  {
   "cell_type": "markdown",
   "id": "81b50e86",
   "metadata": {},
   "source": [
    "- 최대 제한 속도에 따라 평균값의 차이가 다름 \n",
    "- 이상치 중에서도 값의 차이가 많이 나는 값들이 있음"
   ]
  },
  {
   "cell_type": "markdown",
   "id": "a1ea73a9",
   "metadata": {},
   "source": [
    "#### 차로 수(lane_count)"
   ]
  },
  {
   "cell_type": "code",
   "execution_count": 36,
   "id": "e2f6ada7",
   "metadata": {},
   "outputs": [
    {
     "data": {
      "text/plain": [
       "<AxesSubplot:xlabel='lane_count', ylabel='target'>"
      ]
     },
     "execution_count": 36,
     "metadata": {},
     "output_type": "execute_result"
    },
    {
     "data": {
      "image/png": "[encoded data removed]",
      "text/plain": [
       "<Figure size 432x288 with 1 Axes>"
      ]
     },
     "metadata": {
      "needs_background": "light"
     },
     "output_type": "display_data"
    }
   ],
   "source": [
    "sns.boxplot(x=train.lane_count, y=train.target)"
   ]
  },
  {
   "cell_type": "markdown",
   "id": "cac2e722",
   "metadata": {},
   "source": [
    "- 2차선일 때 가장 빠른 속도를 보였고, 3차선일 때 가장 느린 속도를 보임"
   ]
  },
  {
   "cell_type": "markdown",
   "id": "d02b5b6a",
   "metadata": {},
   "source": [
    "#### 통과 제한 하중(weight_restricted)"
   ]
  },
  {
   "cell_type": "code",
   "execution_count": 37,
   "id": "0b63a780",
   "metadata": {},
   "outputs": [
    {
     "data": {
      "text/plain": [
       "<AxesSubplot:xlabel='weight_restricted', ylabel='target'>"
      ]
     },
     "execution_count": 37,
     "metadata": {},
     "output_type": "execute_result"
    },
    {
     "data": {
      "image/png": "[encoded data removed]",
      "text/plain": [
       "<Figure size 432x288 with 1 Axes>"
      ]
     },
     "metadata": {
      "needs_background": "light"
     },
     "output_type": "display_data"
    }
   ],
   "source": [
    "sns.boxplot(x=\"weight_restricted\", y=\"target\", data=train)"
   ]
  },
  {
   "cell_type": "markdown",
   "id": "7769f1d1",
   "metadata": {},
   "source": [
    "- 제한 하중이 없는 경우 평균 속도가 가장 낮음"
   ]
  },
  {
   "cell_type": "markdown",
   "id": "199456a0",
   "metadata": {},
   "source": [
    "#### 도로 등급(road_rating)\n",
    "- 103 : 일반 국도\n",
    "- 106 : 지방도\n",
    "- 107 : 시도, 군도"
   ]
  },
  {
   "cell_type": "code",
   "execution_count": 38,
   "id": "7ecde356",
   "metadata": {},
   "outputs": [
    {
     "data": {
      "text/plain": [
       "<seaborn.axisgrid.FacetGrid at 0x7f97beb37710>"
      ]
     },
     "execution_count": 38,
     "metadata": {},
     "output_type": "execute_result"
    },
    {
     "data": {
      "image/png": "[encoded data removed]",
      "text/plain": [
       "<Figure size 425.125x360 with 1 Axes>"
      ]
     },
     "metadata": {
      "needs_background": "light"
     },
     "output_type": "display_data"
    }
   ],
   "source": [
    "sns.displot(x=train.target, hue=train.road_rating, palette=\"bright\")"
   ]
  },
  {
   "cell_type": "markdown",
   "id": "1c226670",
   "metadata": {},
   "source": [
    "- 도로등급이 106(지방도), 103(일반국도)일 때 평균적으로 높은 속도를 보임, 107(시도, 군도)은 낮은 평균 속도\n",
    "- 최대값에서도 도로등급 107(시도, 군도)가 가장 낮은 속도를 보임"
   ]
  },
  {
   "cell_type": "code",
   "execution_count": 40,
   "id": "c8569cd5",
   "metadata": {},
   "outputs": [],
   "source": [
    "train.drop(['month', 'season', 'group_time'], axis=1, inplace=True)"
   ]
  },
  {
   "cell_type": "markdown",
   "id": "5aea5500",
   "metadata": {},
   "source": [
    "# preprocessing"
   ]
  },
  {
   "cell_type": "markdown",
   "id": "a16b233a",
   "metadata": {},
   "source": [
    "### road_name(\"-\") 대체"
   ]
  },
  {
   "cell_type": "markdown",
   "id": "f106a4c0",
   "metadata": {},
   "source": [
    "- road_rating(도로등급)과 weight_restricted(통과제한하중) 변수를 사용하여 약 8만 7천개의 결측값 대체 \n",
    "- weight_restricted = 32400.0, 43200.0"
   ]
  },
  {
   "cell_type": "code",
   "execution_count": 42,
   "id": "78ac6aad",
   "metadata": {},
   "outputs": [
    {
     "name": "stdout",
     "output_type": "stream",
     "text": [
      "대체 전: 569463\n",
      "대체 후: 481943\n"
     ]
    }
   ],
   "source": [
    "print('대체 전:',len(train[train[\"road_name\"] == \"-\"]))\n",
    "\n",
    "train.loc[(train[\"road_rating\"] == 107) & (train[\"weight_restricted\"] == 43200.0) & (train[\"road_name\"] == \"-\"), \"road_name\"] = \"중문로\"\n",
    "train.loc[(train[\"road_rating\"] == 107) & (train[\"weight_restricted\"] == 32400.0) & (train[\"road_name\"] == \"-\"), \"road_name\"] = \"산서로\"\n",
    "\n",
    "test.loc[(test[\"road_rating\"] == 107) & (test[\"weight_restricted\"] == 43200.0) & (test[\"road_name\"] == \"-\"), \"road_name\"] = \"중문로\"\n",
    "test.loc[(test[\"road_rating\"] == 107) & (test[\"weight_restricted\"] == 32400.0) & (test[\"road_name\"] == \"-\"), \"road_name\"] = \"산서로\"\n",
    "\n",
    "print('대체 후:',len(train[train[\"road_name\"] == \"-\"]))"
   ]
  },
  {
   "cell_type": "markdown",
   "id": "89537801",
   "metadata": {},
   "source": [
    "- weight_restricted = 0.0인 경우, start_node_name(시작지점명)에서 road_name이 \"-\"을 포함해서 2가지인 경우를 출력해서 약 10만개의 결측값 대체"
   ]
  },
  {
   "cell_type": "code",
   "execution_count": 43,
   "id": "98d2c980",
   "metadata": {},
   "outputs": [],
   "source": [
    "# 결측값 대체 함수 생성\n",
    "\n",
    "def make_list(feature):\n",
    "    lst = [] \n",
    "    for i in train[feature].unique():\n",
    "        if len(train[train[feature] == i][\"road_name\"].value_counts()) != 2:\n",
    "            continue\n",
    "        if \"-\" in train[train[feature] == i][\"road_name\"].value_counts().index:\n",
    "            index = train[train[feature] == i][\"road_name\"].value_counts().index.tolist()\n",
    "            index.remove(\"-\")\n",
    "            lst.append([i, index[0]])\n",
    "    return lst\n",
    "\n",
    "def replace_func(feature):\n",
    "    lst = make_list(feature)\n",
    "    \n",
    "    # train \n",
    "    for re_lst in lst:\n",
    "        train.loc[(train[feature] == re_lst[0]) & (train[\"road_name\"] == \"-\"), \"road_name\"] = re_lst[1]\n",
    "    print('대체 후:', len(train[train[\"road_name\"] == \"-\"]))\n",
    "    \n",
    "    # test\n",
    "    for re_lst in lst:\n",
    "        test.loc[(test[feature] == re_lst[0]) & (test[\"road_name\"] == \"-\"), \"road_name\"] = re_lst[1]    "
   ]
  },
  {
   "cell_type": "code",
   "execution_count": 44,
   "id": "eb14d628",
   "metadata": {},
   "outputs": [
    {
     "name": "stdout",
     "output_type": "stream",
     "text": [
      "대체 후: 379668\n"
     ]
    }
   ],
   "source": [
    "replace_func(\"start_node_name\")"
   ]
  },
  {
   "cell_type": "markdown",
   "id": "fd970c8f",
   "metadata": {},
   "source": [
    "- end_node_name(도착지점명)에서 road_name이 \"-\"을 포함해서 2가지인 경우를 출력해서 약 10만개의 결측값 대체"
   ]
  },
  {
   "cell_type": "code",
   "execution_count": 45,
   "id": "a5e30c63",
   "metadata": {},
   "outputs": [
    {
     "name": "stdout",
     "output_type": "stream",
     "text": [
      "대체 후: 277900\n"
     ]
    }
   ],
   "source": [
    "replace_func(\"end_node_name\")"
   ]
  },
  {
   "cell_type": "markdown",
   "id": "52d49f9c",
   "metadata": {},
   "source": [
    "- 위도, 경도 변수 사용하여 값 대체"
   ]
  },
  {
   "cell_type": "code",
   "execution_count": 46,
   "id": "05e1a2a3",
   "metadata": {},
   "outputs": [
    {
     "name": "stdout",
     "output_type": "stream",
     "text": [
      "586 586 586 586\n",
      "586 586 586 586\n"
     ]
    }
   ],
   "source": [
    "# 위도, 경도 소숫점 자릿수 제한(7번째 자리에서 반올림)\n",
    "\n",
    "print(train[\"start_latitude\"].nunique(), train[\"start_longitude\"].nunique(), train[\"end_latitude\"].nunique(), train[\"end_longitude\"].nunique()) \n",
    "\n",
    "train[[\"start_latitude\", \"start_longitude\", \"end_latitude\", \"end_longitude\"]] = train[[\"start_latitude\", \"start_longitude\", \"end_latitude\", \"end_longitude\"]].apply(lambda x : round(x, 6))\n",
    "test[[\"start_latitude\", \"start_longitude\", \"end_latitude\", \"end_longitude\"]] = test[[\"start_latitude\", \"start_longitude\", \"end_latitude\", \"end_longitude\"]].apply(lambda x : round(x, 6))\n",
    "\n",
    "print(train[\"start_latitude\"].nunique(), train[\"start_longitude\"].nunique(), train[\"end_latitude\"].nunique(), train[\"end_longitude\"].nunique()) "
   ]
  },
  {
   "cell_type": "code",
   "execution_count": 47,
   "id": "9e94d1ca",
   "metadata": {},
   "outputs": [
    {
     "name": "stdout",
     "output_type": "stream",
     "text": [
      "대체 후: 228095\n"
     ]
    }
   ],
   "source": [
    "replace_func(\"start_latitude\") # 시작지점의 위도"
   ]
  },
  {
   "cell_type": "code",
   "execution_count": 48,
   "id": "7c6c94e7",
   "metadata": {},
   "outputs": [
    {
     "name": "stdout",
     "output_type": "stream",
     "text": [
      "대체 후: 205952\n"
     ]
    }
   ],
   "source": [
    "replace_func(\"end_latitude\") # 도착지점의 위도"
   ]
  },
  {
   "cell_type": "code",
   "execution_count": 49,
   "id": "e34a030c",
   "metadata": {},
   "outputs": [
    {
     "name": "stdout",
     "output_type": "stream",
     "text": [
      "대체 후: 197539\n"
     ]
    }
   ],
   "source": [
    "replace_func(\"start_longitude\") # 시작지점의 경도"
   ]
  },
  {
   "cell_type": "code",
   "execution_count": 50,
   "id": "c85cf1e0",
   "metadata": {},
   "outputs": [
    {
     "name": "stdout",
     "output_type": "stream",
     "text": [
      "대체 후: 188647\n"
     ]
    }
   ],
   "source": [
    "replace_func(\"end_longitude\") # 도착지점의 경도"
   ]
  },
  {
   "cell_type": "markdown",
   "id": "77df7f62",
   "metadata": {},
   "source": [
    "- 두 개 이상의 항목 탐색 -> 종료지점 중심\n",
    "- end_logitude, end_latitude, lane_count 사용"
   ]
  },
  {
   "cell_type": "code",
   "execution_count": 51,
   "id": "30b49e0a",
   "metadata": {},
   "outputs": [
    {
     "name": "stdout",
     "output_type": "stream",
     "text": [
      "-      5928\n",
      "중문로    5881\n",
      "Name: road_name, dtype: int64\n",
      "126.414236 33.255215 2\n",
      "------------------------------\n",
      "-      6057\n",
      "애조로    6048\n",
      "Name: road_name, dtype: int64\n",
      "126.456384 33.465863 2\n",
      "------------------------------\n"
     ]
    }
   ],
   "source": [
    "temp_train = train.groupby([\"end_longitude\", \"end_latitude\", \"lane_count\"])[[\"road_name\"]].sum()\n",
    "temp_train = temp_train.agg({\"road_name\":pd.Series.mode})\n",
    "\n",
    "long_lat = [] \n",
    "\n",
    "for i in range(len(temp_train)):\n",
    "    if \"-\" in temp_train[\"road_name\"].iloc[i][0]:\n",
    "        long_lat.append(temp_train.index[i])\n",
    "    \n",
    "for i in range(len(long_lat)):\n",
    "    if len(train[(train[\"end_longitude\"] == long_lat[i][0]) & (train[\"end_latitude\"] == long_lat[i][1])][\"road_name\"].value_counts()) > 1:\n",
    "        print(train[(train[\"end_longitude\"] == long_lat[i][0]) & (train[\"end_latitude\"] == long_lat[i][1]) & (train[\"lane_count\"] == long_lat[i][2])][\"road_name\"].value_counts())\n",
    "        print(long_lat[i][0], long_lat[i][1], long_lat[i][2])\n",
    "        print(\"------------------------------\")"
   ]
  },
  {
   "cell_type": "code",
   "execution_count": 52,
   "id": "a8f5215d",
   "metadata": {},
   "outputs": [
    {
     "name": "stdout",
     "output_type": "stream",
     "text": [
      "대체 전: 188647\n",
      "대체 후: 176662\n"
     ]
    }
   ],
   "source": [
    "print('대체 전:', len(train[train[\"road_name\"] == \"-\"]))\n",
    "\n",
    "train.loc[(train[\"end_longitude\"] == 126.414236) & (train[\"end_latitude\"] == 33.255215) & (train[\"lane_count\"] == 2) & (train[\"road_name\"] == \"-\"), \"road_name\"] = \"중문로\"\n",
    "train.loc[(train[\"end_longitude\"] == 126.456384) & (train[\"end_latitude\"] == 33.465863) & (train[\"lane_count\"] == 2) & (train[\"road_name\"] == \"-\"), \"road_name\"] = \"애조로\"\n",
    "\n",
    "test.loc[(test[\"end_longitude\"] == 126.414236) & (test[\"end_latitude\"] == 33.255215) & (test[\"lane_count\"] == 2) & (test[\"road_name\"] == \"-\"), \"road_name\"] = \"중문로\"\n",
    "test.loc[(test[\"end_longitude\"] == 126.456384) & (test[\"end_latitude\"] == 33.465863) & (test[\"lane_count\"] == 2) & (test[\"road_name\"] == \"-\"), \"road_name\"] = \"애조로\"\n",
    "\n",
    "print('대체 후:', len(train[train[\"road_name\"] == \"-\"]))"
   ]
  },
  {
   "cell_type": "markdown",
   "id": "7875058e",
   "metadata": {},
   "source": [
    "- 두 개 이상의 항목 탐색 -> 시작지점 중심\n",
    "- start_longitude, start_latitude, lane_count 사용"
   ]
  },
  {
   "cell_type": "code",
   "execution_count": 53,
   "id": "cd9a411d",
   "metadata": {},
   "outputs": [
    {
     "name": "stdout",
     "output_type": "stream",
     "text": [
      "산서로    4454\n",
      "-      4228\n",
      "Name: road_name, dtype: int64\n",
      "126.261797 33.415529 2\n",
      "------------------------------\n",
      "산서로    4438\n",
      "-      4360\n",
      "Name: road_name, dtype: int64\n",
      "126.262739 33.415854 2\n",
      "------------------------------\n",
      "중문로    5928\n",
      "-      5853\n",
      "Name: road_name, dtype: int64\n",
      "126.413687 33.255431 2\n",
      "------------------------------\n",
      "-    5899\n",
      "Name: road_name, dtype: int64\n",
      "126.414236 33.255215 2\n",
      "------------------------------\n",
      "애조로    6057\n",
      "-      6034\n",
      "Name: road_name, dtype: int64\n",
      "126.454583 33.466433 2\n",
      "------------------------------\n",
      "애조로    6044\n",
      "-      6034\n",
      "Name: road_name, dtype: int64\n",
      "126.456384 33.465863 2\n",
      "------------------------------\n"
     ]
    }
   ],
   "source": [
    "temp_train = train.groupby([\"start_longitude\", \"start_latitude\", \"lane_count\"])[[\"road_name\"]].sum()\n",
    "temp_train = temp_train.agg({\"road_name\":pd.Series.mode})\n",
    "\n",
    "long_lat = [] \n",
    "\n",
    "for i in range(len(temp_train)):\n",
    "    if \"-\" in temp_train[\"road_name\"].iloc[i][0]:\n",
    "        long_lat.append(temp_train.index[i])\n",
    "    \n",
    "for i in range(len(long_lat)):\n",
    "    if len(train[(train[\"start_longitude\"] == long_lat[i][0]) & (train[\"start_latitude\"] == long_lat[i][1])][\"road_name\"].value_counts()) > 1:\n",
    "        print(train[(train[\"start_longitude\"] == long_lat[i][0]) & (train[\"start_latitude\"] == long_lat[i][1]) & (train[\"lane_count\"] == long_lat[i][2])][\"road_name\"].value_counts())\n",
    "        print(long_lat[i][0], long_lat[i][1], long_lat[i][2])\n",
    "        print(\"------------------------------\")"
   ]
  },
  {
   "cell_type": "code",
   "execution_count": 54,
   "id": "d4d92889",
   "metadata": {},
   "outputs": [
    {
     "name": "stdout",
     "output_type": "stream",
     "text": [
      "대체 전: 176662\n",
      "대체 후: 150153\n"
     ]
    }
   ],
   "source": [
    "print('대체 전:', len(train[train[\"road_name\"] == \"-\"]))\n",
    "\n",
    "train.loc[(train[\"start_longitude\"] == 126.261797) & (train[\"start_latitude\"] == 33.415529) & (train[\"lane_count\"] == 2) & (train[\"road_name\"] == \"-\"), \"road_name\"] = \"산서로\"\n",
    "train.loc[(train[\"start_longitude\"] == 126.262739) & (train[\"start_latitude\"] == 33.415854) & (train[\"lane_count\"] == 2) & (train[\"road_name\"] == \"-\"), \"road_name\"] = \"산서로\"\n",
    "train.loc[(train[\"start_longitude\"] == 126.413687) & (train[\"start_latitude\"] == 33.255431) & (train[\"lane_count\"] == 2) & (train[\"road_name\"] == \"-\"), \"road_name\"] = \"중문로\"\n",
    "train.loc[(train[\"start_longitude\"] == 126.454583) & (train[\"start_latitude\"] == 33.466433) & (train[\"lane_count\"] == 2) & (train[\"road_name\"] == \"-\"), \"road_name\"] = \"애조로\"\n",
    "train.loc[(train[\"start_longitude\"] == 126.456384) & (train[\"start_latitude\"] == 33.465863) & (train[\"lane_count\"] == 2) & (train[\"road_name\"] == \"-\"), \"road_name\"] = \"애조로\"\n",
    "\n",
    "test.loc[(test[\"start_longitude\"] == 126.261797) & (test[\"start_latitude\"] == 33.415529) & (test[\"lane_count\"] == 2) & (test[\"road_name\"] == \"-\"), \"road_name\"] = \"산서로\"\n",
    "test.loc[(test[\"start_longitude\"] == 126.262739) & (test[\"start_latitude\"] == 33.415854) & (test[\"lane_count\"] == 2) & (test[\"road_name\"] == \"-\"), \"road_name\"] = \"산서로\"\n",
    "test.loc[(test[\"start_longitude\"] == 126.413687) & (test[\"start_latitude\"] == 33.255431) & (test[\"lane_count\"] == 2) & (test[\"road_name\"] == \"-\"), \"road_name\"] = \"중문로\"\n",
    "test.loc[(test[\"start_longitude\"] == 126.454583) & (test[\"start_latitude\"] == 33.466433) & (test[\"lane_count\"] == 2) & (test[\"road_name\"] == \"-\"), \"road_name\"] = \"애조로\"\n",
    "test.loc[(test[\"start_longitude\"] == 126.456384) & (test[\"start_latitude\"] == 33.465863) & (test[\"lane_count\"] == 2) & (test[\"road_name\"] == \"-\"), \"road_name\"] = \"애조로\"\n",
    "\n",
    "print('대체 후:', len(train[train[\"road_name\"] == \"-\"]))"
   ]
  },
  {
   "cell_type": "markdown",
   "id": "30cfba84",
   "metadata": {},
   "source": [
    "### target outlier"
   ]
  },
  {
   "cell_type": "code",
   "execution_count": 56,
   "id": "7ab79810",
   "metadata": {},
   "outputs": [],
   "source": [
    "train = train[train.target<100]\n",
    "train.reset_index(drop=True, inplace=True)"
   ]
  },
  {
   "cell_type": "markdown",
   "id": "e44d2616",
   "metadata": {},
   "source": [
    "### feature engineering"
   ]
  },
  {
   "cell_type": "markdown",
   "id": "74c306a1",
   "metadata": {},
   "source": [
    "#### 시간 관련 파생변수"
   ]
  },
  {
   "cell_type": "markdown",
   "id": "7d40f591",
   "metadata": {},
   "source": [
    "- 월 변수 추가"
   ]
  },
  {
   "cell_type": "code",
   "execution_count": 60,
   "id": "84159548",
   "metadata": {},
   "outputs": [],
   "source": [
    "train[\"base_date\"] = train[\"base_date\"].astype(str)\n",
    "train[\"base_date\"] = pd.to_datetime(train[\"base_date\"])\n",
    "\n",
    "test[\"base_date\"] = test[\"base_date\"].astype(str)\n",
    "test[\"base_date\"] = pd.to_datetime(test[\"base_date\"])\n",
    "\n",
    "train[\"month\"] = train[\"base_date\"].dt.month\n",
    "test[\"month\"] = test[\"base_date\"].dt.month"
   ]
  },
  {
   "cell_type": "markdown",
   "id": "8ae4a0fe",
   "metadata": {},
   "source": [
    "- 계절 변수 추가"
   ]
  },
  {
   "cell_type": "code",
   "execution_count": 61,
   "id": "5425721a",
   "metadata": {},
   "outputs": [],
   "source": [
    "train['season'] = '-'\n",
    "train.loc[(train['month'] == 3) | (train['month'] == 4) | (train['month'] == 5), 'season'] = 'spring'\n",
    "train.loc[(train['month'] == 6) | (train['month'] == 7) | (train['month'] == 8), 'season'] = 'summer'\n",
    "train.loc[(train['month'] == 9) | (train['month'] == 10) | (train['month'] == 11), 'season'] = 'autumn'\n",
    "train.loc[(train['month'] == 12) | (train['month'] == 1) | (train['month'] == 2), 'season'] = 'winter'\n",
    "train.loc[(train['season'] == '-'), 'season'] = 'Na'\n",
    "\n",
    "test['season'] = '-'\n",
    "test.loc[(test['month'] == 3) | (test['month'] == 4) | (test['month'] == 5), 'season'] = 'spring'\n",
    "test.loc[(test['month'] == 6) | (test['month'] == 7) | (test['month'] == 8), 'season'] = 'summer'\n",
    "test.loc[(test['month'] == 9) | (test['month'] == 10) | (test['month'] == 11), 'season'] = 'autumn'\n",
    "test.loc[(test['month'] == 12) | (test['month'] == 1) | (test['month'] == 2), 'season'] = 'winter'\n",
    "test.loc[(test['season'] == '-'), 'season'] = 'Na'"
   ]
  },
  {
   "cell_type": "markdown",
   "id": "609ae8b2",
   "metadata": {},
   "source": [
    "- 시간대별 변수 추가"
   ]
  },
  {
   "cell_type": "code",
   "execution_count": 62,
   "id": "351caee8",
   "metadata": {},
   "outputs": [],
   "source": [
    "train['group_time'] = '-'\n",
    "train.loc[(train['base_hour'] < 6), 'group_time'] = 'down'\n",
    "train.loc[(train['base_hour'] >= 6) & (train['base_hour'] < 12), 'group_time'] = 'morning'\n",
    "train.loc[(train['base_hour'] >= 12) & (train['base_hour'] < 19), 'group_time'] = 'afternoon'\n",
    "train.loc[(train['base_hour'] >= 19) & (train['base_hour'] <=24), 'group_time'] = 'evening'\n",
    "train.loc[(train['group_time'] == '-'), 'group_time'] = 'Na'\n",
    "\n",
    "test['group_time'] = '-'\n",
    "test.loc[(test['base_hour'] < 6), 'group_time'] = 'down'\n",
    "test.loc[(test['base_hour'] >= 6) & (test['base_hour'] < 12), 'group_time'] = 'morning'\n",
    "test.loc[(test['base_hour'] >= 12) & (test['base_hour'] < 19), 'group_time'] = 'afternoon'\n",
    "test.loc[(test['base_hour'] >= 19) & (test['base_hour'] <=24), 'group_time'] = 'evening'\n",
    "test.loc[(test['group_time'] == '-'), 'group_time'] = 'Na'"
   ]
  },
  {
   "cell_type": "markdown",
   "id": "d730c5ea",
   "metadata": {},
   "source": [
    "#### 공간 관련 파생변수"
   ]
  },
  {
   "cell_type": "markdown",
   "id": "3b3fd0af",
   "metadata": {},
   "source": [
    "- 위도, 경도 차이 변수 추가"
   ]
  },
  {
   "cell_type": "code",
   "execution_count": 63,
   "id": "873d6736",
   "metadata": {},
   "outputs": [],
   "source": [
    "train['lat_change'] = train['start_latitude'] - train['end_latitude']\n",
    "train['lon_change'] = train['start_longitude'] - train['end_longitude']\n",
    "\n",
    "test['lat_change'] = test['start_latitude'] - test['end_latitude']\n",
    "test['lon_change'] = test['start_longitude'] - test['end_longitude']"
   ]
  },
  {
   "cell_type": "markdown",
   "id": "310bd349",
   "metadata": {},
   "source": [
    "- 두 지점 사이의 거리(haversine 공식 사용)"
   ]
  },
  {
   "cell_type": "code",
   "execution_count": 64,
   "id": "48b967d5",
   "metadata": {},
   "outputs": [],
   "source": [
    "from math import radians, cos, sin, asin, sqrt\n",
    "\n",
    "def haversine(row):\n",
    "    \n",
    "    # convert decimal degrees to radians\n",
    "    lon1 = row['start_longitude']\n",
    "    lat1 = row['start_latitude']\n",
    "    lon2 = row['end_longitude']\n",
    "    lat2 = row['end_latitude']\n",
    "    \n",
    "    lon1, lat1, lon2, lat2 = map(radians, [lon1, lat1, lon2, lat2])\n",
    "    \n",
    "    # haversine formula\n",
    "    dlon = lon2 - lon1\n",
    "    dlat = lat2 - lat1\n",
    "    \n",
    "    a = sin(dlat/2)**2 + cos(lat1)*cos(lat2) * sin(dlon/2)**2\n",
    "    c = 2 * asin(sqrt(a))\n",
    "    km = 6367 * c\n",
    "    \n",
    "    return km\n",
    "\n",
    "train['distance'] = train.apply(haversine, axis=1)\n",
    "test['distance'] = test.apply(haversine, axis=1)"
   ]
  },
  {
   "cell_type": "markdown",
   "id": "7d4e0c5d",
   "metadata": {},
   "source": [
    "### label encodiing"
   ]
  },
  {
   "cell_type": "code",
   "execution_count": 67,
   "id": "fd17d327",
   "metadata": {},
   "outputs": [],
   "source": [
    "str_col = [\"day_of_week\", \"road_rating\", \"road_name\", \"maximum_speed_limit\", \"weight_restricted\", \n",
    "           \"road_type\", \"start_node_name\", \"start_turn_restricted\", \"end_node_name\", \"end_turn_restricted\", \"season\", \"group_time\"]\n",
    "\n",
    "for i in str_col:\n",
    "    le = LabelEncoder()\n",
    "    le = le.fit(train[i])\n",
    "    train[i] = le.transform(train[i])\n",
    "    \n",
    "    for label in np.unique(test[i]):\n",
    "        if label not in le.classes_:\n",
    "            le.classes_ = np.append(le.classes_, label)\n",
    "    test[i] = le.transform(test[i])"
   ]
  },
  {
   "cell_type": "markdown",
   "id": "22a792a9",
   "metadata": {},
   "source": [
    "### 불필요한 변수 제거"
   ]
  },
  {
   "cell_type": "code",
   "execution_count": 74,
   "id": "777b652d",
   "metadata": {},
   "outputs": [],
   "source": [
    "y_train = train[\"target\"]\n",
    "X_train = train.drop([\"id\", \"base_date\", \"multi_linked\", \"connect_code\", \"vehicle_restricted\", \"height_restricted\", \"target\"], axis=1)\n",
    "X_test = test.drop([\"id\", \"base_date\", \"multi_linked\", \"connect_code\", \"vehicle_restricted\", \"height_restricted\"], axis=1)"
   ]
  },
  {
   "cell_type": "markdown",
   "id": "7ee39b27",
   "metadata": {},
   "source": [
    "### StandardScaling"
   ]
  },
  {
   "cell_type": "code",
   "execution_count": 76,
   "id": "4ecb23cc",
   "metadata": {},
   "outputs": [],
   "source": [
    "col = X_train.columns\n",
    "\n",
    "scaler = StandardScaler()\n",
    "scaler.fit(X_train)\n",
    "X_train = scaler.transform(X_train)\n",
    "X_test = scaler.transform(X_test)\n",
    "\n",
    "X_train = pd.DataFrame(X_train, columns=col)\n",
    "X_test = pd.DataFrame(X_test, columns=col)"
   ]
  },
  {
   "cell_type": "markdown",
   "id": "3e77a039",
   "metadata": {},
   "source": [
    "# Hyperparameter tuning -> Optuna"
   ]
  },
  {
   "cell_type": "markdown",
   "id": "8c42ed2e",
   "metadata": {},
   "source": [
    "- KNN"
   ]
  },
  {
   "cell_type": "code",
   "execution_count": null,
   "id": "9847dd1f",
   "metadata": {},
   "outputs": [],
   "source": [
    "# def objective(trial, data=X_train, target=y_train):\n",
    "    \n",
    "#     X_train, X_valid, y_train, y_valid = train_test_split(data, target, test_size=0.3, random_state=2022)\n",
    "    \n",
    "#     param = {\n",
    "#         'n_neighbors' : trial.suggest_int('n_neighbors', 1, 60),\n",
    "#         'weights' : trial.suggest_categorical('weights', ['uniform','distance']),\n",
    "#         'metric' : trial.suggest_categorical('metric', ['euclidean', 'manhattan', 'minkowski']),\n",
    "#         'n_jobs' : -1\n",
    "#         }\n",
    "    \n",
    "#     model = KNeighborsRegressor(**param)\n",
    "#     model.fit(X_train, y_train)\n",
    "        \n",
    "#     pred = model.predict(X_valid)    \n",
    "#     mae = mean_absolute_error(y_valid, pred)\n",
    "    \n",
    "#     return mae\n",
    "\n",
    "# study = optuna.create_study(direction= 'minimize')\n",
    "# study.optimize(objective, n_trials=10)\n",
    "# print('Number of finished trials:', len(study.trials))\n",
    "# print('Best trial:', study.best_trial.params)"
   ]
  },
  {
   "cell_type": "markdown",
   "id": "589929b1",
   "metadata": {},
   "source": [
    "- RandomForest"
   ]
  },
  {
   "cell_type": "code",
   "execution_count": null,
   "id": "f358d0fe",
   "metadata": {},
   "outputs": [],
   "source": [
    "# def objective(trial, data=X_train, target=y_train):\n",
    "    \n",
    "#     X_train, X_valid, y_train, y_valid = train_test_split(data, target, test_size=0.3, random_state=2022)\n",
    "    \n",
    "#     param = {\n",
    "#         'max_depth' : trial.suggest_int('max_depth', 1, 30),\n",
    "#         'max_leaf_nodes' : trial.suggest_int('max_leaf_nodes', 1, 1000),\n",
    "#         'n_estimators' : trial.suggest_int('n_estimators', 30, 1000)      \n",
    "#     }\n",
    "    \n",
    "#     model = RandomForestRegressor(**param)\n",
    "#     model.fit(X_train, y_train)\n",
    "        \n",
    "#     pred = model.predict(X_valid)    \n",
    "#     mae = mean_absolute_error(y_valid, pred)\n",
    "    \n",
    "#     return mae\n",
    "\n",
    "# study = optuna.create_study(direction= 'minimize')\n",
    "# study.optimize(objective, n_trials=10)\n",
    "# print('Number of finished trials:', len(study.trials))\n",
    "# print('Best trial:', study.best_trial.params)"
   ]
  },
  {
   "cell_type": "markdown",
   "id": "815f5884",
   "metadata": {},
   "source": [
    "- XGBoost"
   ]
  },
  {
   "cell_type": "code",
   "execution_count": null,
   "id": "67b7d02f",
   "metadata": {},
   "outputs": [],
   "source": [
    "# def objective(trial,data=X_train,target=y_train):\n",
    "    \n",
    "#     X_train, X_valid, y_train, y_valid = train_test_split(data, target, test_size=0.3, random_state=2022)\n",
    "\n",
    "#     param = {\n",
    "\n",
    "#         'lambda': trial.suggest_loguniform('lambda', 1e-3, 10.0),\n",
    "#         'alpha': trial.suggest_loguniform('alpha', 1e-3, 10.0),\n",
    "#         'colsample_bytree': trial.suggest_categorical('colsample_bytree', [0.3,0.4,0.5,0.6,0.7,0.8,0.9, 1.0]),\n",
    "#         'subsample': trial.suggest_categorical('subsample', [0.4,0.5,0.6,0.7,0.8,1.0]),\n",
    "#         'learning_rate': trial.suggest_categorical('learning_rate', [0.008,0.01,0.012,0.014,0.016,0.018, 0.02]),\n",
    "#         'n_estimators': 10000,\n",
    "#         'max_depth': trial.suggest_categorical('max_depth', [3,4,5,6,7,8,9,10,11,12,13,14,15]),\n",
    "#         'random_state': trial.suggest_categorical('random_state', [1234]),\n",
    "#         'min_child_weight': trial.suggest_int('min_child_weight', 100, 1000),\n",
    "\n",
    "#         'objective':'reg:squarederror',\n",
    "#     }\n",
    "\n",
    "#     model = XGBRegressor(**param)\n",
    "    \n",
    "#     model.fit(X_train,y_train,eval_set=[(X_valid,y_valid)],early_stopping_rounds=25,verbose=False)\n",
    "    \n",
    "#     pred = model.predict(X_valid)    \n",
    "#     mae = mean_absolute_error(y_valid, pred)\n",
    "\n",
    "#     return mae\n",
    "\n",
    "# sampler = optuna.samplers.TPESampler(seed=10)\n",
    "\n",
    "# study = optuna.create_study(direction= 'minimize')\n",
    "# study.optimize(objective, n_trials=10)\n",
    "# print('Number of finished trials:', len(study.trials))\n",
    "# print('Best trial:', study.best_trial.params)"
   ]
  },
  {
   "cell_type": "markdown",
   "id": "ebdcf873",
   "metadata": {},
   "source": [
    "- LightGBM"
   ]
  },
  {
   "cell_type": "code",
   "execution_count": null,
   "id": "31064b15",
   "metadata": {},
   "outputs": [],
   "source": [
    "# def objective(trial,data=X_train,target=y_train):\n",
    "    \n",
    "#     X_train, X_valid, y_train, y_valid = train_test_split(data, target, test_size=0.3, random_state=2022)\n",
    "\n",
    "#     param = {\n",
    "\n",
    "#         'objective': 'regression',\n",
    "#         'verbose': -1,\n",
    "#         'metric': 'mae', \n",
    "#         'max_depth': trial.suggest_int('max_depth',3, 15),\n",
    "#         'learning_rate': trial.suggest_loguniform(\"learning_rate\", 1e-8, 1e-2),\n",
    "#         'reg_alpha': trial.suggest_loguniform('reg_alpha', 1e-3, 10.0),\n",
    "#         'reg_lambda': trial.suggest_loguniform('reg_lambda', 1e-3, 10.0),\n",
    "#         'n_estimators': trial.suggest_int('n_estimators', 100, 3000),\n",
    "#         'min_child_samples': trial.suggest_int('min_child_samples', 100, 500),\n",
    "#         'colsample_bytree': trial.suggest_categorical('colsample_bytree', [0.3,0.4,0.5,0.6,0.7,0.8,0.9,1.0]),\n",
    "#         'num_leaves' : trial.suggest_int('num_leaves', 1, 1000),\n",
    "#         'subsample': trial.suggest_loguniform('subsample', 0.4, 1)\n",
    "#     }\n",
    "\n",
    "#     model = lgb.LGBMRegressor(**param)\n",
    "    \n",
    "#     model.fit(X_train,y_train,eval_set=[(X_valid,y_valid)],early_stopping_rounds=25)\n",
    "    \n",
    "#     pred = model.predict(X_valid)    \n",
    "#     mae = mean_absolute_error(y_valid, pred)\n",
    "\n",
    "#     return mae\n",
    "\n",
    "# sampler = optuna.samplers.TPESampler(seed=10)\n",
    "\n",
    "# study = optuna.create_study(direction='minimize')\n",
    "# study.optimize(objective, n_trials=10)\n",
    "# print('Number of finished trials:', len(study.trials))\n",
    "# print('Best trial:', study.best_trial.params)"
   ]
  },
  {
   "cell_type": "markdown",
   "id": "8d883a26",
   "metadata": {},
   "source": [
    "- CatBoost"
   ]
  },
  {
   "cell_type": "code",
   "execution_count": null,
   "id": "db085773",
   "metadata": {},
   "outputs": [],
   "source": [
    "# def objective(trial, data=X_train, target=y_train):\n",
    "\n",
    "#     X_train, X_valid, y_train, y_valid = train_test_split(data, target, test_size=0.3, random_state=2022)\n",
    "\n",
    "\n",
    "#     param = {\n",
    "#         'iterations':trial.suggest_int(\"iterations\", 4000, 25000),\n",
    "#         'od_wait':trial.suggest_int('od_wait', 500, 2300),\n",
    "#         'learning_rate' : trial.suggest_uniform('learning_rate',0.01, 1),\n",
    "#         'reg_lambda': trial.suggest_uniform('reg_lambda',1e-5,100),\n",
    "#         'subsample': trial.suggest_uniform('subsample',0,1),\n",
    "#         'random_strength': trial.suggest_uniform('random_strength',10,50),\n",
    "#         'depth': trial.suggest_int('depth',1, 15),\n",
    "#         'min_data_in_leaf': trial.suggest_int('min_data_in_leaf',1,30),\n",
    "#         'leaf_estimation_iterations': trial.suggest_int('leaf_estimation_iterations',1,15),\n",
    "#         'bagging_temperature' :trial.suggest_loguniform('bagging_temperature', 0.01, 100.00),\n",
    "#         'colsample_bylevel':trial.suggest_float('colsample_bylevel', 0.4, 1.0),\n",
    "#         'random_state' : 2022\n",
    "#     }\n",
    "\n",
    "\n",
    "#     model = CatBoostRegressor(**param)\n",
    "#     model.fit(X_train, y_train, eval_set=[(X_valid, y_valid)], verbose=0, early_stopping_rounds=25)\n",
    "                           \n",
    "#     pred = model.predict(X_valid)    \n",
    "#     mae = mean_absolute_error(y_valid, pred)\n",
    "\n",
    "#     return mae\n",
    "\n",
    "# sampler = optuna.samplers.TPESampler(seed=10)\n",
    "\n",
    "# study = optuna.create_study(direction= 'minimize')\n",
    "# study.optimize(objective, n_trials=10)\n",
    "# print('Number of finished trials:', len(study.trials))\n",
    "# print('Best trial:', study.best_trial.params)"
   ]
  },
  {
   "cell_type": "markdown",
   "id": "18609ffe",
   "metadata": {},
   "source": [
    "# modeling\n",
    "- 최종 best score -> XGBoost + StratifiedKFold"
   ]
  },
  {
   "cell_type": "code",
   "execution_count": 77,
   "id": "22e77156",
   "metadata": {},
   "outputs": [],
   "source": [
    "X = X_train.copy()\n",
    "y = y_train.copy()"
   ]
  },
  {
   "cell_type": "code",
   "execution_count": 78,
   "id": "86eaf596",
   "metadata": {},
   "outputs": [],
   "source": [
    "def get_model(ml_model, params):\n",
    "    if ml_model == \"KNN\":\n",
    "        model = KNeighborsRegressor(**params, n_jobs=-1)\n",
    "    elif ml_model == \"RandomForest\":\n",
    "        model = RandomForestRegressor(**params)\n",
    "    elif ml_model == \"CatBoost\":\n",
    "        model = CatBoostRegressor(**params)\n",
    "    elif ml_model == \"LightGBM\":\n",
    "        model = lgb.LGBMRegressor(**params)\n",
    "    elif ml_model == \"XGBoost\":\n",
    "        model = XGBRegressor(**params)\n",
    "    return model \n",
    "\n",
    "params = {\n",
    "    \n",
    "    \"KNN\" : {'n_neighbors': 16, 'weights': 'uniform', 'metric': 'manhattan'},\n",
    "    \n",
    "    \"RandomForest\" : {'max_depth': 18, 'max_leaf_nodes': 907, 'n_estimators': 227},\n",
    "        \n",
    "    \"CatBoost\" : {'iterations': 22228, 'od_wait': 2007, 'learning_rate': 0.015621794068637028, \n",
    "                'reg_lambda': 83.75859340286098,'random_strength': 33.460726474577406,\n",
    "                'depth': 13, 'min_data_in_leaf': 26, 'leaf_estimation_iterations': 5,\n",
    "                 'bagging_temperature': 0.014299438084260483, 'task_type':'GPU', 'random_state' : 2022},\n",
    "    \n",
    "    \"LightGBM\" : {'learning_rate':0.05, 'max_depth':16,'boosting':'gbdt', 'objective':'regression', 'num_leaves':5000, \n",
    "                  'ramdom_state':2022, 'num_iterations':5000},\n",
    "    \n",
    "    \"XGBoost\" : {'n_estimators': 10000, 'lambda': 0.0010647391923787098, 'alpha': 0.007165643470571922, 'colsample_bytree': 0.7,\n",
    "                'subsample': 0.8, 'learning_rate': 0.01, 'max_depth': 14, 'random_state': 1234, 'min_child_weight': 361, \n",
    "                 'objective':'reg:squarederror', 'tree_method':'gpu_hist', 'gpu_id':0}\n",
    "        }"
   ]
  },
  {
   "cell_type": "code",
   "execution_count": 79,
   "id": "4c5ad6ac",
   "metadata": {},
   "outputs": [
    {
     "name": "stdout",
     "output_type": "stream",
     "text": [
      "====================================1============================================\n",
      "1Fold MAE = 3.024058868328391\n",
      "================================================================================\n",
      "\n",
      "\n",
      "====================================2============================================\n",
      "2Fold MAE = 3.022306747925834\n",
      "================================================================================\n",
      "\n",
      "\n",
      "====================================3============================================\n",
      "3Fold MAE = 3.024278700006731\n",
      "================================================================================\n",
      "\n",
      "\n",
      "====================================4============================================\n",
      "4Fold MAE = 3.0165316888538465\n",
      "================================================================================\n",
      "\n",
      "\n",
      "====================================5============================================\n",
      "5Fold MAE = 3.0268170242324826\n",
      "================================================================================\n",
      "\n",
      "\n",
      "====================================6============================================\n",
      "6Fold MAE = 3.0301392954047994\n",
      "================================================================================\n",
      "\n",
      "\n",
      "====================================7============================================\n",
      "7Fold MAE = 3.02711162652927\n",
      "================================================================================\n",
      "\n",
      "\n",
      "====================================8============================================\n",
      "8Fold MAE = 3.024005891162464\n",
      "================================================================================\n",
      "\n",
      "\n",
      "====================================9============================================\n",
      "9Fold MAE = 3.0255721085021676\n",
      "================================================================================\n",
      "\n",
      "\n",
      "====================================10============================================\n",
      "10Fold MAE = 3.026337323951758\n",
      "================================================================================\n",
      "\n",
      "\n"
     ]
    }
   ],
   "source": [
    "folds = []\n",
    "ml_model = {}\n",
    "\n",
    "skf = StratifiedKFold(n_splits=10, shuffle=True, random_state=2022)\n",
    "\n",
    "for train_idx, val_idx in skf.split(X, y):\n",
    "    folds.append((train_idx, val_idx))\n",
    "\n",
    "    \n",
    "for i in range(10):\n",
    "    print(f'===================================={i+1}============================================')\n",
    "    \n",
    "    train_idx, val_idx = folds[i]\n",
    "    \n",
    "    x_train, x_valid, y_train, y_valid = X.iloc[train_idx], X.iloc[val_idx], y.iloc[train_idx], y.iloc[val_idx]\n",
    "    \n",
    "    model = get_model(\"XGBoost\", params[\"XGBoost\"])\n",
    "    model.fit(x_train, y_train)\n",
    "    \n",
    "    y_pred = model.predict(x_valid)\n",
    "    mae = mean_absolute_error(y_valid, y_pred)\n",
    "    print(f\"{i+1}Fold MAE = {mae}\")\n",
    "    \n",
    "    ml_model[i] = model\n",
    "    print(f'================================================================================\\n\\n')"
   ]
  },
  {
   "cell_type": "markdown",
   "id": "9c2a8052",
   "metadata": {},
   "source": [
    "feature importance"
   ]
  },
  {
   "cell_type": "code",
   "execution_count": 80,
   "id": "1fce9e2b",
   "metadata": {},
   "outputs": [
    {
     "data": {
      "image/png": "[encoded data removed]",
      "text/plain": [
       "<Figure size 720x1080 with 1 Axes>"
      ]
     },
     "metadata": {
      "needs_background": "light"
     },
     "output_type": "display_data"
    }
   ],
   "source": [
    "fig, ax = plt.subplots(figsize=(10,15))\n",
    "ax = plot_importance(ml_model[0], max_num_features=len(col), ax=ax)"
   ]
  },
  {
   "cell_type": "code",
   "execution_count": 81,
   "id": "99d54b16",
   "metadata": {},
   "outputs": [
    {
     "data": {
      "image/png": "[encoded data removed]",
      "text/plain": [
       "<Figure size 720x360 with 1 Axes>"
      ]
     },
     "metadata": {
      "needs_background": "light"
     },
     "output_type": "display_data"
    }
   ],
   "source": [
    "plt.figure(figsize=(10,5))\n",
    "\n",
    "plt.plot(np.array(y_valid[300:500]), label='true')\n",
    "plt.plot(y_pred[300:500], label='pred')\n",
    "plt.legend()\n",
    "plt.show()"
   ]
  },
  {
   "cell_type": "markdown",
   "id": "7883809e",
   "metadata": {},
   "source": [
    "# submission"
   ]
  },
  {
   "cell_type": "code",
   "execution_count": 82,
   "id": "cb7c5899",
   "metadata": {},
   "outputs": [],
   "source": [
    "sample_submission = pd.read_csv('./data/sample_submission.csv')\n",
    "\n",
    "for fold in range(10):\n",
    "    sample_submission['target'] += ml_model[fold].predict(X_test)/10\n",
    "    \n",
    "sample_submission['target'] = round(sample_submission['target'])\n",
    "sample_submission.to_csv('./submission/submit_total.csv', index=False)"
   ]
  },
  {
   "cell_type": "markdown",
   "id": "8eacef07",
   "metadata": {},
   "source": [
    "----------------"
   ]
  }
 ],
 "metadata": {
  "kernelspec": {
   "display_name": "test_env",
   "language": "python",
   "name": "test_env"
  },
  "language_info": {
   "codemirror_mode": {
    "name": "ipython",
    "version": 3
   },
   "file_extension": ".py",
   "mimetype": "text/x-python",
   "name": "python",
   "nbconvert_exporter": "python",
   "pygments_lexer": "ipython3",
   "version": "3.7.13"
  }
 },
 "nbformat": 4,
 "nbformat_minor": 5
}